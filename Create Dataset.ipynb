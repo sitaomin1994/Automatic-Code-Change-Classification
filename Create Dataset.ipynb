{
 "cells": [
  {
   "cell_type": "code",
   "execution_count": 1,
   "metadata": {},
   "outputs": [
    {
     "name": "stderr",
     "output_type": "stream",
     "text": [
      "/Users/apple/venv/lib/python3.6/site-packages/psycopg2/__init__.py:144: UserWarning: The psycopg2 wheel package will be renamed from release 2.8; in order to keep installing from binary please use \"pip install psycopg2-binary\" instead. For details see: <http://initd.org/psycopg/docs/install.html#binary-install-from-pypi>.\n",
      "  \"\"\")\n"
     ]
    }
   ],
   "source": [
    "import pandas as pd\n",
    "import numpy as np\n",
    "import psycopg2"
   ]
  },
  {
   "cell_type": "markdown",
   "metadata": {},
   "source": [
    "### Get Commit id and Labels"
   ]
  },
  {
   "cell_type": "code",
   "execution_count": 20,
   "metadata": {},
   "outputs": [
    {
     "name": "stdout",
     "output_type": "stream",
     "text": [
      "  commit id   label1 label2 label3       label4       label5         label6\n",
      "0   0b9ea98  Testing    NaN    NaN          NaN          NaN    Feature Add\n",
      "1   980d9f8      NaN    NaN    NaN          NaN          NaN    Refactoring\n",
      "2   e9d5060  Testing    NaN    NaN          NaN      Bug fix    Feature Add\n",
      "3   a63639b  Testing    NaN    NaN  Maintenance        Build    Feature Add\n",
      "4   a611d64      NaN    NaN    NaN          NaN  Module Move  Module Remove\n",
      "(925, 7)\n"
     ]
    }
   ],
   "source": [
    "df_origin =  pd.read_excel('commit data.xlsx', sheet_name= 'Commit Data')\n",
    "print(df_origin.head())\n",
    "print(df_origin.shape)"
   ]
  },
  {
   "cell_type": "markdown",
   "metadata": {},
   "source": [
    "### Get Multiple Labels"
   ]
  },
  {
   "cell_type": "code",
   "execution_count": 21,
   "metadata": {},
   "outputs": [
    {
     "data": {
      "text/html": [
       "<div>\n",
       "<style scoped>\n",
       "    .dataframe tbody tr th:only-of-type {\n",
       "        vertical-align: middle;\n",
       "    }\n",
       "\n",
       "    .dataframe tbody tr th {\n",
       "        vertical-align: top;\n",
       "    }\n",
       "\n",
       "    .dataframe thead th {\n",
       "        text-align: right;\n",
       "    }\n",
       "</style>\n",
       "<table border=\"1\" class=\"dataframe\">\n",
       "  <thead>\n",
       "    <tr style=\"text-align: right;\">\n",
       "      <th></th>\n",
       "      <th>commit id</th>\n",
       "      <th>label1</th>\n",
       "      <th>label2</th>\n",
       "      <th>label3</th>\n",
       "      <th>label4</th>\n",
       "      <th>label5</th>\n",
       "      <th>label6</th>\n",
       "      <th>categories</th>\n",
       "    </tr>\n",
       "  </thead>\n",
       "  <tbody>\n",
       "    <tr>\n",
       "      <th>0</th>\n",
       "      <td>0b9ea98</td>\n",
       "      <td>Testing</td>\n",
       "      <td>NaN</td>\n",
       "      <td>NaN</td>\n",
       "      <td>NaN</td>\n",
       "      <td>NaN</td>\n",
       "      <td>Feature Add</td>\n",
       "      <td>[Testing, Feature Add]</td>\n",
       "    </tr>\n",
       "    <tr>\n",
       "      <th>1</th>\n",
       "      <td>980d9f8</td>\n",
       "      <td>NaN</td>\n",
       "      <td>NaN</td>\n",
       "      <td>NaN</td>\n",
       "      <td>NaN</td>\n",
       "      <td>NaN</td>\n",
       "      <td>Refactoring</td>\n",
       "      <td>[Refactoring]</td>\n",
       "    </tr>\n",
       "    <tr>\n",
       "      <th>2</th>\n",
       "      <td>e9d5060</td>\n",
       "      <td>Testing</td>\n",
       "      <td>NaN</td>\n",
       "      <td>NaN</td>\n",
       "      <td>NaN</td>\n",
       "      <td>Bug fix</td>\n",
       "      <td>Feature Add</td>\n",
       "      <td>[Testing, Bug fix, Feature Add]</td>\n",
       "    </tr>\n",
       "    <tr>\n",
       "      <th>3</th>\n",
       "      <td>a63639b</td>\n",
       "      <td>Testing</td>\n",
       "      <td>NaN</td>\n",
       "      <td>NaN</td>\n",
       "      <td>Maintenance</td>\n",
       "      <td>Build</td>\n",
       "      <td>Feature Add</td>\n",
       "      <td>[Testing, Maintenance, Build, Feature Add]</td>\n",
       "    </tr>\n",
       "    <tr>\n",
       "      <th>4</th>\n",
       "      <td>a611d64</td>\n",
       "      <td>NaN</td>\n",
       "      <td>NaN</td>\n",
       "      <td>NaN</td>\n",
       "      <td>NaN</td>\n",
       "      <td>Module Move</td>\n",
       "      <td>Module Remove</td>\n",
       "      <td>[Module Move, Module Remove]</td>\n",
       "    </tr>\n",
       "  </tbody>\n",
       "</table>\n",
       "</div>"
      ],
      "text/plain": [
       "  commit id   label1 label2 label3       label4       label5         label6  \\\n",
       "0   0b9ea98  Testing    NaN    NaN          NaN          NaN    Feature Add   \n",
       "1   980d9f8      NaN    NaN    NaN          NaN          NaN    Refactoring   \n",
       "2   e9d5060  Testing    NaN    NaN          NaN      Bug fix    Feature Add   \n",
       "3   a63639b  Testing    NaN    NaN  Maintenance        Build    Feature Add   \n",
       "4   a611d64      NaN    NaN    NaN          NaN  Module Move  Module Remove   \n",
       "\n",
       "                                   categories  \n",
       "0                      [Testing, Feature Add]  \n",
       "1                               [Refactoring]  \n",
       "2             [Testing, Bug fix, Feature Add]  \n",
       "3  [Testing, Maintenance, Build, Feature Add]  \n",
       "4                [Module Move, Module Remove]  "
      ]
     },
     "execution_count": 21,
     "metadata": {},
     "output_type": "execute_result"
    }
   ],
   "source": [
    "def create_label(row):\n",
    "    result = []\n",
    "    for i in range(1,7):\n",
    "        if pd.isnull(row['label' + str(i)]) == False:\n",
    "            result.append(row['label' + str(i)])\n",
    "    \n",
    "    return result\n",
    "\n",
    "df_origin['categories'] = df_origin.apply(lambda row : create_label(row), axis = 1)\n",
    "df_origin.to_csv('orignal_commit_data.csv')\n",
    "df_origin.head()"
   ]
  },
  {
   "cell_type": "markdown",
   "metadata": {},
   "source": [
    "### Make New Feature and Label Dataset"
   ]
  },
  {
   "cell_type": "code",
   "execution_count": 28,
   "metadata": {},
   "outputs": [
    {
     "data": {
      "text/html": [
       "<div>\n",
       "<style scoped>\n",
       "    .dataframe tbody tr th:only-of-type {\n",
       "        vertical-align: middle;\n",
       "    }\n",
       "\n",
       "    .dataframe tbody tr th {\n",
       "        vertical-align: top;\n",
       "    }\n",
       "\n",
       "    .dataframe thead th {\n",
       "        text-align: right;\n",
       "    }\n",
       "</style>\n",
       "<table border=\"1\" class=\"dataframe\">\n",
       "  <thead>\n",
       "    <tr style=\"text-align: right;\">\n",
       "      <th></th>\n",
       "      <th>commit id</th>\n",
       "      <th>categories</th>\n",
       "    </tr>\n",
       "  </thead>\n",
       "  <tbody>\n",
       "    <tr>\n",
       "      <th>0</th>\n",
       "      <td>0b9ea98</td>\n",
       "      <td>[Testing, Feature Add]</td>\n",
       "    </tr>\n",
       "    <tr>\n",
       "      <th>1</th>\n",
       "      <td>980d9f8</td>\n",
       "      <td>[Refactoring]</td>\n",
       "    </tr>\n",
       "    <tr>\n",
       "      <th>2</th>\n",
       "      <td>e9d5060</td>\n",
       "      <td>[Testing, Bug fix, Feature Add]</td>\n",
       "    </tr>\n",
       "    <tr>\n",
       "      <th>3</th>\n",
       "      <td>a63639b</td>\n",
       "      <td>[Testing, Maintenance, Build, Feature Add]</td>\n",
       "    </tr>\n",
       "    <tr>\n",
       "      <th>4</th>\n",
       "      <td>a611d64</td>\n",
       "      <td>[Module Move, Module Remove]</td>\n",
       "    </tr>\n",
       "  </tbody>\n",
       "</table>\n",
       "</div>"
      ],
      "text/plain": [
       "  commit id                                  categories\n",
       "0   0b9ea98                      [Testing, Feature Add]\n",
       "1   980d9f8                               [Refactoring]\n",
       "2   e9d5060             [Testing, Bug fix, Feature Add]\n",
       "3   a63639b  [Testing, Maintenance, Build, Feature Add]\n",
       "4   a611d64                [Module Move, Module Remove]"
      ]
     },
     "execution_count": 28,
     "metadata": {},
     "output_type": "execute_result"
    }
   ],
   "source": [
    "df = df_origin.copy()\n",
    "df = df.drop(['label1','label2','label3','label4','label5','label6'], axis = 1)\n",
    "df.head()"
   ]
  },
  {
   "cell_type": "code",
   "execution_count": 29,
   "metadata": {},
   "outputs": [
    {
     "name": "stdout",
     "output_type": "stream",
     "text": [
      "0b9ea98\n",
      "9dcf08d\n",
      "0 [CALCITE-1124] Add TIMESTAMPADD, TIMESTAMPDIFF functions (Arina Ielchiieva)\n",
      "\n",
      "Close apache/calcite#204\n",
      "\n",
      "1 Move code from JdbcImplementor and JdbcRules to new class SqlImplementor\n",
      "\n",
      "2 [CALCITE-968] Stream-to-relation and stream-to-stream joins (Milinda Pathirage)\n",
      "\n",
      "Rule to transform Delta(Scan(constant-table)) to Empty;\n",
      "fix NullPointerException in PruneEmptyRules.\n",
      "\n",
      "3 [CALCITE-912] Add Avatica OpenConnectionRequest (Bruno Dumon)\n",
      "\n",
      "Goal: passing of connection properties (the 'info') from the remote\n",
      "avatica driver to the corresponding server-side connection.\n",
      "\n",
      "Changes include:\n",
      " * in Meta: explicit opening of connections: there is a new\n",
      "   openConnection() call. Client decides on the connection id.\n",
      "   Implicit creation of unknown connections is gone.\n",
      " * JdbcMeta: default connection is gone, all methods have been\n",
      "   extended with a connection id.\n",
      " * correspondingly, the various Service.Request's now carry a\n",
      "   connection id (will make fixing CALCITE-871 easy)\n",
      " * (unrelated, but was useful for testing) more meaningful error\n",
      "   messages in remote driver\n",
      "\n",
      "4 [CALCITE-296] Re-organize package structure;\n",
      "[CALCITE-419] Naming convention for planner rules\n",
      "\n",
      "This change only renames files (and deletes some obsolete files). There are no content changes.\n",
      "\n"
     ]
    }
   ],
   "source": [
    "try:\n",
    "    conn =  psycopg2.connect(\"dbname='squad' user='apple' password = 'mst123456' host='localhost'\")\n",
    "except:\n",
    "    print (\"I am unable to connect to the database\")  \n",
    "\n",
    "cur = conn.cursor()\n",
    "\n",
    "csha_list = df['commit id'].values\n",
    "print(csha_list[0])\n",
    "print(csha_list[96])\n",
    "\n",
    "commit_message = []\n",
    "for index, csha in enumerate(csha_list):\n",
    "    qr =  \"SELECT message FROM commits WHERE csha LIKE '{}%'\".format(csha_list[index].strip())\n",
    "    cur.execute(qr)\n",
    "    fetched_row = cur.fetchone()\n",
    "    if fetched_row != None:\n",
    "        if index < 5:\n",
    "            print(index, fetched_row[0])\n",
    "        commit_message.append(fetched_row[0])\n",
    "    else:\n",
    "        if index < 5:\n",
    "            print('None')\n",
    "        commit_message.append('None')"
   ]
  },
  {
   "cell_type": "code",
   "execution_count": 30,
   "metadata": {},
   "outputs": [
    {
     "data": {
      "text/html": [
       "<div>\n",
       "<style scoped>\n",
       "    .dataframe tbody tr th:only-of-type {\n",
       "        vertical-align: middle;\n",
       "    }\n",
       "\n",
       "    .dataframe tbody tr th {\n",
       "        vertical-align: top;\n",
       "    }\n",
       "\n",
       "    .dataframe thead th {\n",
       "        text-align: right;\n",
       "    }\n",
       "</style>\n",
       "<table border=\"1\" class=\"dataframe\">\n",
       "  <thead>\n",
       "    <tr style=\"text-align: right;\">\n",
       "      <th></th>\n",
       "      <th>commit id</th>\n",
       "      <th>categories</th>\n",
       "      <th>commit_message</th>\n",
       "    </tr>\n",
       "  </thead>\n",
       "  <tbody>\n",
       "    <tr>\n",
       "      <th>0</th>\n",
       "      <td>0b9ea98</td>\n",
       "      <td>[Testing, Feature Add]</td>\n",
       "      <td>[CALCITE-1124] Add TIMESTAMPADD, TIMESTAMPDIFF...</td>\n",
       "    </tr>\n",
       "    <tr>\n",
       "      <th>1</th>\n",
       "      <td>980d9f8</td>\n",
       "      <td>[Refactoring]</td>\n",
       "      <td>Move code from JdbcImplementor and JdbcRules t...</td>\n",
       "    </tr>\n",
       "    <tr>\n",
       "      <th>2</th>\n",
       "      <td>e9d5060</td>\n",
       "      <td>[Testing, Bug fix, Feature Add]</td>\n",
       "      <td>[CALCITE-968] Stream-to-relation and stream-to...</td>\n",
       "    </tr>\n",
       "    <tr>\n",
       "      <th>3</th>\n",
       "      <td>a63639b</td>\n",
       "      <td>[Testing, Maintenance, Build, Feature Add]</td>\n",
       "      <td>[CALCITE-912] Add Avatica OpenConnectionReques...</td>\n",
       "    </tr>\n",
       "    <tr>\n",
       "      <th>4</th>\n",
       "      <td>a611d64</td>\n",
       "      <td>[Module Move, Module Remove]</td>\n",
       "      <td>[CALCITE-296] Re-organize package structure;\\n...</td>\n",
       "    </tr>\n",
       "  </tbody>\n",
       "</table>\n",
       "</div>"
      ],
      "text/plain": [
       "  commit id                                  categories  \\\n",
       "0   0b9ea98                      [Testing, Feature Add]   \n",
       "1   980d9f8                               [Refactoring]   \n",
       "2   e9d5060             [Testing, Bug fix, Feature Add]   \n",
       "3   a63639b  [Testing, Maintenance, Build, Feature Add]   \n",
       "4   a611d64                [Module Move, Module Remove]   \n",
       "\n",
       "                                      commit_message  \n",
       "0  [CALCITE-1124] Add TIMESTAMPADD, TIMESTAMPDIFF...  \n",
       "1  Move code from JdbcImplementor and JdbcRules t...  \n",
       "2  [CALCITE-968] Stream-to-relation and stream-to...  \n",
       "3  [CALCITE-912] Add Avatica OpenConnectionReques...  \n",
       "4  [CALCITE-296] Re-organize package structure;\\n...  "
      ]
     },
     "execution_count": 30,
     "metadata": {},
     "output_type": "execute_result"
    }
   ],
   "source": [
    "df['commit_message'] = commit_message\n",
    "df.head()"
   ]
  },
  {
   "cell_type": "markdown",
   "metadata": {},
   "source": [
    "### Export to CSV"
   ]
  },
  {
   "cell_type": "code",
   "execution_count": 31,
   "metadata": {},
   "outputs": [],
   "source": [
    "df.to_csv('commit_data.csv')"
   ]
  }
 ],
 "metadata": {
  "kernelspec": {
   "display_name": "Python 3",
   "language": "python",
   "name": "python3"
  },
  "language_info": {
   "codemirror_mode": {
    "name": "ipython",
    "version": 3
   },
   "file_extension": ".py",
   "mimetype": "text/x-python",
   "name": "python",
   "nbconvert_exporter": "python",
   "pygments_lexer": "ipython3",
   "version": "3.6.5"
  }
 },
 "nbformat": 4,
 "nbformat_minor": 2
}

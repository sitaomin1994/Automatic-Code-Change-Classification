{
 "cells": [
  {
   "cell_type": "markdown",
   "metadata": {},
   "source": [
    "### Import Dataset"
   ]
  },
  {
   "cell_type": "code",
   "execution_count": 1,
   "metadata": {},
   "outputs": [
    {
     "name": "stderr",
     "output_type": "stream",
     "text": [
      "/Users/apple/venv/lib/python3.6/site-packages/psycopg2/__init__.py:144: UserWarning: The psycopg2 wheel package will be renamed from release 2.8; in order to keep installing from binary please use \"pip install psycopg2-binary\" instead. For details see: <http://initd.org/psycopg/docs/install.html#binary-install-from-pypi>.\n",
      "  \"\"\")\n"
     ]
    }
   ],
   "source": [
    "import pandas as pd\n",
    "import numpy as np\n",
    "import psycopg2\n",
    "import matplotlib.pyplot as plt\n",
    "import seaborn as sns\n",
    "from collections import Counter"
   ]
  },
  {
   "cell_type": "raw",
   "metadata": {},
   "source": [
    "!pip install wordcloud"
   ]
  },
  {
   "cell_type": "code",
   "execution_count": 2,
   "metadata": {},
   "outputs": [
    {
     "name": "stdout",
     "output_type": "stream",
     "text": [
      "   Unnamed: 0 commit id                                         categories  \\\n",
      "0           0   0b9ea98                         ['Testing', 'Feature Add']   \n",
      "1           1   980d9f8                                    ['Refactoring']   \n",
      "2           2   e9d5060              ['Testing', 'Bug fix', 'Feature Add']   \n",
      "3           3   a63639b  ['Testing', 'Maintenance', 'Build', 'Feature A...   \n",
      "4           4   a611d64                   ['Module Move', 'Module Remove']   \n",
      "\n",
      "                                      commit_message  \n",
      "0  [CALCITE-1124] Add TIMESTAMPADD, TIMESTAMPDIFF...  \n",
      "1  Move code from JdbcImplementor and JdbcRules t...  \n",
      "2  [CALCITE-968] Stream-to-relation and stream-to...  \n",
      "3  [CALCITE-912] Add Avatica OpenConnectionReques...  \n",
      "4  [CALCITE-296] Re-organize package structure;\\n...  \n",
      "(925, 4)\n",
      "<class 'list'>\n"
     ]
    },
    {
     "data": {
      "text/plain": [
       "['Testing', 'Feature Add']"
      ]
     },
     "execution_count": 2,
     "metadata": {},
     "output_type": "execute_result"
    }
   ],
   "source": [
    "df = pd.read_csv('commit_data.csv')\n",
    "print(df.head())\n",
    "print(df.shape)\n",
    "\n",
    "# convert string to list\n",
    "from ast import literal_eval\n",
    "\n",
    "df['categories'] = df['categories'].apply(lambda x: literal_eval(x))\n",
    "print(type(df['categories'].values[0]))\n",
    "df['categories'].values[0]"
   ]
  },
  {
   "cell_type": "markdown",
   "metadata": {},
   "source": [
    "### Multilabel Transform"
   ]
  },
  {
   "cell_type": "code",
   "execution_count": 3,
   "metadata": {},
   "outputs": [],
   "source": [
    "# tag counts\n",
    "def get_tag_counts(df):\n",
    "    \n",
    "    tags_counts = Counter()\n",
    "\n",
    "    for tags in df['categories'].values:\n",
    "        for tag in list(tags):\n",
    "            tags_counts[tag] += 1\n",
    "\n",
    "    most_common_tags = sorted(tags_counts.items(), key=lambda x: x[1], reverse=True)[:]\n",
    "\n",
    "    for item in most_common_tags:\n",
    "        print(item[0], \":\", item[1])\n",
    "        \n",
    "    return tags_counts"
   ]
  },
  {
   "cell_type": "code",
   "execution_count": 4,
   "metadata": {},
   "outputs": [
    {
     "name": "stdout",
     "output_type": "stream",
     "text": [
      "Maintenance : 443\n",
      "Testing : 343\n",
      "Feature Add : 184\n",
      "Bug fix : 146\n",
      "Clean up : 108\n",
      "Documentation : 100\n",
      "Build : 68\n",
      "Refactoring : 64\n",
      "Indentation : 30\n",
      "Token Replace : 20\n",
      "Cross : 15\n",
      "Source Control : 10\n",
      "Legal : 10\n",
      "Debug : 8\n",
      "Module Remove : 6\n",
      "Module Move : 5\n",
      "Rename : 4\n",
      "Merge : 3\n",
      "Versioning : 2\n",
      "Module Add : 1\n",
      "Initialization : 1\n",
      "Internationalization : 1\n"
     ]
    }
   ],
   "source": [
    "from sklearn.preprocessing import MultiLabelBinarizer\n",
    "\n",
    "tags_counts = get_tag_counts(df)\n",
    "\n",
    "y = df['categories'].values\n",
    "mlb = MultiLabelBinarizer(classes=sorted(tags_counts.keys()))\n",
    "y_new = mlb.fit_transform(y)\n",
    "\n",
    "target_columns = mlb.classes\n",
    "\n",
    "for index, item in enumerate(target_columns):\n",
    "    df[item] = y_new[:, index]"
   ]
  },
  {
   "cell_type": "markdown",
   "metadata": {},
   "source": [
    "### Merge Category"
   ]
  },
  {
   "cell_type": "code",
   "execution_count": 5,
   "metadata": {},
   "outputs": [
    {
     "name": "stdout",
     "output_type": "stream",
     "text": [
      "(899, 26)\n",
      "Maintenance : 440\n",
      "Testing : 338\n",
      "Feature Add : 184\n",
      "Bug fix : 146\n",
      "Clean up : 108\n",
      "Documentation : 99\n",
      "Refactoring : 64\n",
      "Build : 63\n",
      "Indentation : 30\n",
      "Token Replace : 20\n",
      "Cross : 15\n",
      "Legal : 9\n",
      "Debug : 8\n",
      "Rename : 4\n",
      "Versioning : 2\n"
     ]
    }
   ],
   "source": [
    "# drop categories with too fewer commits\n",
    "data = df[(df['Module Add']!=1) & (df['Module Move']!=1) & (df['Module Remove']!=1) & (df['Source Control']!=1) & (df['Internationalization']!=1) & (df['Merge']!=1) & (df['Initialization']!=1)]\n",
    "data = data.reset_index(drop=True)\n",
    "print(data.shape)\n",
    "tags_counts = get_tag_counts(data)"
   ]
  },
  {
   "cell_type": "code",
   "execution_count": 6,
   "metadata": {},
   "outputs": [
    {
     "data": {
      "text/plain": [
       "['Bug fix',\n",
       " 'Build',\n",
       " 'Clean up',\n",
       " 'Cross',\n",
       " 'Debug',\n",
       " 'Documentation',\n",
       " 'Feature Add',\n",
       " 'Indentation',\n",
       " 'Initialization',\n",
       " 'Internationalization',\n",
       " 'Legal',\n",
       " 'Maintenance',\n",
       " 'Merge',\n",
       " 'Module Add',\n",
       " 'Module Move',\n",
       " 'Module Remove',\n",
       " 'Refactoring',\n",
       " 'Rename',\n",
       " 'Source Control',\n",
       " 'Testing',\n",
       " 'Token Replace',\n",
       " 'Versioning']"
      ]
     },
     "execution_count": 6,
     "metadata": {},
     "output_type": "execute_result"
    }
   ],
   "source": [
    "target_columns"
   ]
  },
  {
   "cell_type": "code",
   "execution_count": 7,
   "metadata": {},
   "outputs": [],
   "source": [
    "# merge cateogories to - 'corrective', 'perfective', 'other', 'feature_addition' and 'debug'\n",
    "def create_corrective(row):\n",
    "    if row['Bug fix'] == 1 or row['Maintenance'] == 1 or row['Build'] == 1:\n",
    "        return 1\n",
    "    else:\n",
    "        return 0\n",
    "    \n",
    "def create_perfective(row):\n",
    "    if row['Refactoring'] == 1 or row['Documentation'] == 1 or row['Clean up'] == 1 or row['Token Replace'] == 1 or row['Indentation'] == 1:\n",
    "        return 1\n",
    "    else:\n",
    "        return 0\n",
    "    \n",
    "def create_other(row):\n",
    "    if row['Versioning'] == 1 or row['Rename'] == 1 or row['Legal'] == 1 or row['Cross'] == 1:\n",
    "        return 1\n",
    "    else:\n",
    "        return 0\n",
    "\n",
    "def create_feature_additon(row):\n",
    "    if row['Feature Add'] == 1:\n",
    "        return 1\n",
    "    else:\n",
    "        return 0\n",
    "\n",
    "def create_debug(row):\n",
    "    if row['Testing'] == 1 or row['Debug'] == 1:\n",
    "        return 1\n",
    "    else:\n",
    "        return 0"
   ]
  },
  {
   "cell_type": "code",
   "execution_count": 8,
   "metadata": {},
   "outputs": [],
   "source": [
    "data['corrective'] = data.apply(lambda row: create_corrective(row), axis = 1)\n",
    "data['perfective'] = data.apply(lambda row: create_perfective(row), axis = 1)\n",
    "data['other'] = data.apply(lambda row: create_other(row), axis = 1)\n",
    "data['feature addition'] = data.apply(lambda row: create_feature_additon(row), axis = 1)\n",
    "data['debug'] = data.apply(lambda row: create_debug(row), axis = 1)"
   ]
  },
  {
   "cell_type": "code",
   "execution_count": 9,
   "metadata": {},
   "outputs": [],
   "source": [
    "new_target = ['corrective','perfective','feature addition']"
   ]
  },
  {
   "cell_type": "code",
   "execution_count": 10,
   "metadata": {},
   "outputs": [
    {
     "name": "stdout",
     "output_type": "stream",
     "text": [
      "(869, 31)\n"
     ]
    }
   ],
   "source": [
    "data = data[(data['other']!=1)]\n",
    "data = data.reset_index(drop=True)\n",
    "print(data.shape)"
   ]
  },
  {
   "cell_type": "code",
   "execution_count": 11,
   "metadata": {},
   "outputs": [
    {
     "name": "stdout",
     "output_type": "stream",
     "text": [
      "Maintenance : 432\n",
      "Testing : 332\n",
      "Feature Add : 181\n",
      "Bug fix : 145\n",
      "Clean up : 107\n",
      "Documentation : 99\n",
      "Refactoring : 64\n",
      "Build : 61\n",
      "Indentation : 29\n",
      "Token Replace : 18\n",
      "Debug : 8\n"
     ]
    }
   ],
   "source": [
    "new_tag_counts = get_tag_counts(data)"
   ]
  },
  {
   "cell_type": "code",
   "execution_count": 14,
   "metadata": {},
   "outputs": [
    {
     "name": "stdout",
     "output_type": "stream",
     "text": [
      "corrective: 571\n",
      "perfective: 285\n",
      "other: 0\n",
      "feature addition: 181\n",
      "debug: 337\n"
     ]
    }
   ],
   "source": [
    "print('corrective:', data[data['corrective'] == 1].shape[0])\n",
    "print('perfective:', data[data['perfective'] == 1].shape[0])\n",
    "print('other:', data[data['other'] == 1].shape[0])\n",
    "print('feature addition:', data[data['feature addition'] == 1].shape[0])\n",
    "print('debug:', data[data['debug'] == 1].shape[0])"
   ]
  },
  {
   "cell_type": "code",
   "execution_count": 15,
   "metadata": {},
   "outputs": [
    {
     "data": {
      "text/plain": [
       "Index(['Unnamed: 0', 'commit id', 'categories', 'commit_message', 'Bug fix',\n",
       "       'Build', 'Clean up', 'Cross', 'Debug', 'Documentation', 'Feature Add',\n",
       "       'Indentation', 'Initialization', 'Internationalization', 'Legal',\n",
       "       'Maintenance', 'Merge', 'Module Add', 'Module Move', 'Module Remove',\n",
       "       'Refactoring', 'Rename', 'Source Control', 'Testing', 'Token Replace',\n",
       "       'Versioning', 'corrective', 'perfective', 'other', 'feature addition',\n",
       "       'debug'],\n",
       "      dtype='object')"
      ]
     },
     "execution_count": 15,
     "metadata": {},
     "output_type": "execute_result"
    }
   ],
   "source": [
    "data.columns"
   ]
  },
  {
   "cell_type": "markdown",
   "metadata": {},
   "source": [
    "### Label Statistics"
   ]
  },
  {
   "cell_type": "code",
   "execution_count": 40,
   "metadata": {},
   "outputs": [
    {
     "data": {
      "image/png": "[encoded data removed]",
      "text/plain": [
       "<Figure size 864x1440 with 22 Axes>"
      ]
     },
     "metadata": {},
     "output_type": "display_data"
    }
   ],
   "source": [
    "# class imbalance\n",
    "sns.set(font_scale = 0.8)\n",
    "plt.figure(figsize=(12,20))\n",
    "\n",
    "for index, label in enumerate(target_columns):\n",
    "    #print('================================================================')\n",
    "    #print(index, label)\n",
    "    #print(df[label].value_counts()[0], ' ',df[label].value_counts()[1])\n",
    "    \n",
    "    binary_class = df[label].value_counts()\n",
    "    \n",
    "    plt.subplot(6,4,index+1)\n",
    "    plt.bar(binary_class.index, binary_class.values)\n",
    "    plt.xticks([0,1])\n",
    "    plt.xlabel(label, fontsize=10)"
   ]
  },
  {
   "cell_type": "code",
   "execution_count": 41,
   "metadata": {},
   "outputs": [
    {
     "data": {
      "image/png": "[encoded data removed]",
      "text/plain": [
       "<Figure size 1440x720 with 1 Axes>"
      ]
     },
     "metadata": {},
     "output_type": "display_data"
    }
   ],
   "source": [
    "# number of commits of each labels\n",
    "sns.set(font_scale = 0.8)\n",
    "plt.figure(figsize=(20,10))\n",
    "ax= sns.barplot(target_columns, df[target_columns].sum().values)\n",
    "plt.title(\"Commits in each category\", fontsize=15)\n",
    "plt.ylabel('Number of commits', fontsize=15)\n",
    "plt.xlabel('Commit Type ', fontsize=15)\n",
    "#adding the text labels\n",
    "rects = ax.patches\n",
    "labels = df[target_columns].sum().values\n",
    "for rect, label in zip(rects, labels):\n",
    "    height = rect.get_height()\n",
    "    ax.text(rect.get_x() + rect.get_width()/2, height + 5, label, ha='center', va='bottom', fontsize=18)\n",
    "plt.show()"
   ]
  },
  {
   "cell_type": "code",
   "execution_count": 42,
   "metadata": {},
   "outputs": [
    {
     "name": "stdout",
     "output_type": "stream",
     "text": [
      "1    467\n",
      "2    318\n",
      "3    103\n",
      "4     27\n",
      "5      8\n",
      "6      2\n",
      "dtype: int64\n"
     ]
    },
    {
     "data": {
      "image/png": "[encoded data removed]",
      "text/plain": [
       "<Figure size 720x432 with 1 Axes>"
      ]
     },
     "metadata": {},
     "output_type": "display_data"
    }
   ],
   "source": [
    "# number of commits have multiple labels\n",
    "\n",
    "rowSums = df[target_columns].sum(axis=1)\n",
    "multiLabel_counts = rowSums.value_counts()\n",
    "multiLabel_counts = multiLabel_counts.iloc[0:]\n",
    "print(multiLabel_counts)\n",
    "\n",
    "sns.set(font_scale = 1)\n",
    "plt.figure(figsize=(10,6))\n",
    "ax = sns.barplot(multiLabel_counts.index, multiLabel_counts.values)\n",
    "plt.title(\"Commiyds having multiple labels \")\n",
    "plt.ylabel('Number of commits', fontsize=15)\n",
    "plt.xlabel('Number of labels', fontsize=15)\n",
    "\n",
    "#adding the text labels\n",
    "rects = ax.patches\n",
    "labels = multiLabel_counts.values\n",
    "for rect, label in zip(rects, labels):\n",
    "    height = rect.get_height()\n",
    "    ax.text(rect.get_x() + rect.get_width()/2, height + 5, label, ha='center', va='bottom')\n",
    "plt.show()"
   ]
  },
  {
   "cell_type": "markdown",
   "metadata": {},
   "source": [
    "### Message Preprocessing\n",
    "\n",
    "##### (i) Remove git-svn-id: \n",
    "e.g. git-svn-id: https://svn.apache.org/repos/asf/commons/proper/collections/trunk@1492866 13f79535-47bb-0310-9956-ffa450edef68\n",
    "##### (ii) Remove Issue Number : e.g. [CALCITE-968]  [COMPRESS-392]\n",
    "##### (iii) Remove Created by MOE - \n",
    "eg. Created by MOE: https://github.com/google/moe\n",
    "MOE_MIGRATED_REVID=160142836\n",
    "##### (iv) Remove Developer name\n",
    "e.g. 344 [] User-defined aggregate functions with more than one parameter (hzyuemeng1)\n",
    "##### (v) Remove http and email address\n",
    "##### (vi) Other filter\n",
    "- Authors\n",
    "- Reviewers\n",
    "- [...]\n",
    "- digitial\n",
    "- special character\n",
    "#### Spell Checking - remove project name/class name/method name\n",
    "Three Options:\n",
    "1. keep all wrong words\n",
    "2. remove all wrong words\n",
    "3. replace wrong words with some new words"
   ]
  },
  {
   "cell_type": "raw",
   "metadata": {},
   "source": [
    "!pip install pyenchant"
   ]
  },
  {
   "cell_type": "code",
   "execution_count": 16,
   "metadata": {},
   "outputs": [
    {
     "name": "stdout",
     "output_type": "stream",
     "text": [
      "[nltk_data] Downloading package stopwords to /Users/apple/nltk_data...\n",
      "[nltk_data]   Package stopwords is already up-to-date!\n",
      "[nltk_data] Downloading package words to /Users/apple/nltk_data...\n",
      "[nltk_data]   Package words is already up-to-date!\n",
      "[nltk_data] Downloading package wordnet to /Users/apple/nltk_data...\n",
      "[nltk_data]   Package wordnet is already up-to-date!\n"
     ]
    }
   ],
   "source": [
    "import nltk\n",
    "from enchant.checker import SpellChecker\n",
    "from nltk.stem import SnowballStemmer\n",
    "nltk.download('stopwords')\n",
    "nltk.download('words')\n",
    "nltk.download('wordnet')\n",
    "from nltk.corpus import stopwords\n",
    "from ast import literal_eval\n",
    "import re\n",
    "import sys\n",
    "import warnings\n",
    "\n",
    "if not sys.warnoptions:\n",
    "    warnings.simplefilter(\"ignore\")\n",
    "\n",
    "# message filter\n",
    "GIT_SVN_RE = re.compile('git-svn-id:.*\\n')\n",
    "issue_number_re = re.compile('[A-Za-z]+[-]\\d+')\n",
    "created_by_moe = re.compile('Created by MOE:.*\\n')\n",
    "MOE_ID = re.compile('MOE_MIGRATED_REVID=.*\\n')\n",
    "developer_name_re = re.compile('\\(.*\\)\\n')\n",
    "HTTP_RE = re.compile('(http|https):.*\\n')\n",
    "EMAIL_RE = re.compile('[a-zA-Z0-9]+@[a-zA-Z0-9]+\\.[a-zA-Z0-9-.]+')\n",
    "Other_RE = re.compile('(Author|Authors|Reviewers|Reviewer).*\\n')\n",
    "Bracket_RE = re.compile('\\[.*\\]')\n",
    "\n",
    "special_character_re = re.compile(r'[?|!|\\'|\"|#]')\n",
    "punctuation = re.compile(r'[.|,|)|(|\\|/]')\n",
    "break_line_re = re.compile('\\n')\n",
    "digital = re.compile('[0-9]')\n",
    "BAD_SYMBOLS_RE = re.compile('[^0-9a-z ]')\n",
    "STOPWORDS = set(stopwords.words('english'))\n",
    "\n",
    "def text_prepare(text):\n",
    "    \"\"\"\n",
    "        text: a string\n",
    "        \n",
    "        return: modified initial string\n",
    "    \"\"\"\n",
    "    text = GIT_SVN_RE.sub('',text)\n",
    "    text = issue_number_re.sub('',text)\n",
    "    text = created_by_moe.sub('',text)\n",
    "    text = MOE_ID.sub('',text)\n",
    "    text = developer_name_re.sub('\\n', text)\n",
    "    text = HTTP_RE.sub('\\n', text)\n",
    "    text = EMAIL_RE.sub('\\n',text)\n",
    "    text = Other_RE.sub('', text)\n",
    "    text = Bracket_RE.sub('', text)\n",
    "    \n",
    "    text = text.lower() # lowercase text\n",
    "    text = special_character_re.sub('',text)\n",
    "    text = punctuation.sub(' ',text)\n",
    "    text = text.strip()\n",
    "    text = break_line_re.sub(' ',text) # remove all \\n\n",
    "    text = digital.sub('',text)\n",
    "    text = BAD_SYMBOLS_RE.sub('', text) # delete symbols which are in BAD_SYMBOLS_RE from text\n",
    "    \n",
    "    text = ' '.join([x for x in text.split() if x and x not in STOPWORDS]) # delete stopwords from text\n",
    "    return text\n",
    "\n",
    "# function of wrong spelling words\n",
    "def check_wrong_words(commit_message):\n",
    "    chkr = SpellChecker(\"en_US\")\n",
    "    wrong_words = []\n",
    "    for index, text in enumerate(commit_message):\n",
    "        chkr.set_text(text)\n",
    "        for err in chkr:\n",
    "            if err.word not in wrong_words:\n",
    "                wrong_words.append(err.word)\n",
    "            #   print(index, err.word)\n",
    "    return wrong_words\n",
    "\n",
    "\n",
    "def remove_noise_words(message_array, wrong_words):\n",
    "    res = []\n",
    "    for text in message_array:\n",
    "        text = ' '.join([x for x in text.split() if x and x not in wrong_words])\n",
    "        res.append(text)\n",
    "    return res\n",
    "\n",
    "def replace_nosie_words_with_sth(message_array, wrong_words):\n",
    "    res = []\n",
    "    for text in message_array:\n",
    "        # replace wrong word with something\n",
    "        new_text = []\n",
    "        for x in text.split():\n",
    "            if x and x in wrong_words:\n",
    "                new_text.append('something')\n",
    "            else:\n",
    "                new_text.append(x)\n",
    "\n",
    "# stemming\n",
    "def stemming(message_array):\n",
    "    \n",
    "    stemmer = SnowballStemmer(\"english\") # Choose a language\n",
    "    # stemmer.stem(\"countries\")\n",
    "    for index, text in enumerate(message_array):\n",
    "    #     print(index, df['cmt_msg'][index])\n",
    "        message_array[index] = ' '.join([stemmer.stem(x) for x in text.split()])\n",
    "    #     print(index, df['cmt_msg'][index])\n",
    "    \n",
    "    return message_array"
   ]
  },
  {
   "cell_type": "code",
   "execution_count": 17,
   "metadata": {},
   "outputs": [],
   "source": [
    "def message_processing(message_array, remove_noise = True):\n",
    "    \n",
    "    # filtering\n",
    "    message_array = [text_prepare(line) for line in message_array]\n",
    "    #for index, line in enumerate(message_array):\n",
    "    #    if index < 10:\n",
    "    #        print(index, line)\n",
    "    \n",
    "    # remove noise word\n",
    "    wrong_words = check_wrong_words(message_array)\n",
    "    remove_noise_message = remove_noise_words(message_array, wrong_words)\n",
    "    original_commit_message = np.copy(message_array)\n",
    "    if remove_noise == True:\n",
    "        message_array = remove_noise_message\n",
    "    else:\n",
    "        message_array = original_commit_message\n",
    "    \n",
    "    #stemming\n",
    "    message_array = stemming(message_array)\n",
    "    \n",
    "    return message_array"
   ]
  },
  {
   "cell_type": "raw",
   "metadata": {},
   "source": [
    "replaced_message = replace_nosie_words_with_sth(df['commit_message'].values)\n",
    "for index, line in enumerate(replaced_message):\n",
    "    if index < 10:\n",
    "        print(index, line)"
   ]
  },
  {
   "cell_type": "code",
   "execution_count": 19,
   "metadata": {},
   "outputs": [
    {
     "name": "stdout",
     "output_type": "stream",
     "text": [
      "['add timestampadd timestampdiff function close apach calcit'\n",
      " 'move code jdbcimplementor jdbcrule new class sqlimplementor'\n",
      " 'streamtorel streamtostream join rule transform delta scan constantt empti fix nullpointerexcept pruneemptyrul'\n",
      " 'add avatica openconnectionrequest goal pass connect properti info remot avatica driver correspond serversid connect chang includ meta explicit open connect new openconnect call client decid connect id implicit creation unknown connect gone jdbcmeta default connect gone method extend connect id correspond various servic request carri connect id unrel use test meaning error messag remot driver'\n",
      " 'reorgan packag structur name convent planner rule chang renam file delet obsolet file content chang'\n",
      " 'infer collat project use monoton close apach incubatorcalcit'\n",
      " 'add piglet subset pig latin top calcit algebra includ parser distinct order limit group command incomplet nest foreach command add test base exampl piglatin refer'\n",
      " 'revert chang introduc rev particular mean packag coordin chang back org apach common bcel org apach bcel furthermor maven coordin chang back org apach commonscommonsbcel snapshot org apach bcelbcel snapshot'\n",
      " 'move method correct class'\n",
      " 'bug select instruct implement stackconsum instead stackproduc']\n"
     ]
    }
   ],
   "source": [
    "message_array = message_processing(df.commit_message, remove_noise=False)\n",
    "\n",
    "print(message_array[0:10])"
   ]
  },
  {
   "cell_type": "markdown",
   "metadata": {},
   "source": [
    "### TD-IDF"
   ]
  },
  {
   "cell_type": "code",
   "execution_count": 139,
   "metadata": {},
   "outputs": [],
   "source": [
    "from scipy import sparse as sp_sparse\n",
    "from sklearn.feature_extraction.text import TfidfVectorizer\n",
    "from collections import Counter\n",
    "from sklearn.model_selection import train_test_split\n",
    "from sklearn.linear_model import LogisticRegression\n",
    "from sklearn.metrics import roc_auc_score\n",
    "from sklearn.metrics import f1_score\n",
    "from sklearn.model_selection import train_test_split\n",
    "from sklearn.tree import DecisionTreeClassifier\n",
    "from sklearn.metrics import classification_report, confusion_matrix\n",
    "from sklearn.model_selection import StratifiedKFold\n",
    "from sklearn.model_selection import GridSearchCV\n",
    "from sklearn.pipeline import Pipeline\n",
    "\n",
    "def tfidf_features(X):\n",
    "    \"\"\"\n",
    "        X_train, X_val, X_test — samples        \n",
    "        return TF-IDF vectorized representation of each sample and vocabulary\n",
    "    \"\"\"\n",
    "    # Create TF-IDF vectorizer with a proper parameters choice\n",
    "    # Fit the vectorizer on the train set\n",
    "    # Transform the train, test, and val sets and return the result\n",
    "    \n",
    "    \n",
    "    tfidf_vectorizer = TfidfVectorizer(ngram_range=(1, 2), norm='l2')\n",
    "    \n",
    "    X = tfidf_vectorizer.fit_transform(X)\n",
    "    \n",
    "    return X,tfidf_vectorizer.vocabulary_\n",
    "\n",
    "def td_idf_split(df, target_columns):\n",
    "    X, y = df['commit_message'].values, df[target_columns].values\n",
    "    X_tfidf, tfidf_vocab = tfidf_features(X)\n",
    "    tfidf_reversed_vocab = {i:word for word,i in tfidf_vocab.items()}\n",
    "    X_train, X_test, y_train, y_test = train_test_split(X_tfidf, y, test_size=0.10, random_state=42)\n",
    "    \n",
    "    return X_train, X_test, y_train, y_test"
   ]
  },
  {
   "cell_type": "markdown",
   "metadata": {},
   "source": [
    "### Multilable Classifier"
   ]
  },
  {
   "cell_type": "raw",
   "metadata": {},
   "source": [
    "!pip install scikit-multilearn"
   ]
  },
  {
   "cell_type": "code",
   "execution_count": 140,
   "metadata": {},
   "outputs": [],
   "source": [
    "#data['commit_message'] = message_processing(data['commit_message'].values)\n",
    "\n",
    "X_train, X_test, y_train, y_test = td_idf_split(data, new_target)"
   ]
  },
  {
   "cell_type": "code",
   "execution_count": 30,
   "metadata": {},
   "outputs": [],
   "source": [
    "from sklearn.metrics import accuracy_score\n",
    "from sklearn.metrics import f1_score\n",
    "from sklearn.metrics import roc_auc_score \n",
    "from sklearn.metrics import average_precision_score\n",
    "from sklearn.metrics import recall_score\n",
    "\n",
    "from skmultilearn.problem_transform import BinaryRelevance\n",
    "from sklearn.naive_bayes import GaussianNB\n",
    "\n",
    "def print_evaluation_scores(y_test, predicted):\n",
    "    \n",
    "    print('Accuracy:', accuracy_score(y_test, predicted))\n",
    "    print('F1-score macro:', f1_score(y_test, predicted, average='macro'))\n",
    "    print('F1-score micro:', f1_score(y_test, predicted, average='micro'))\n",
    "    print('F1-score weighted:', f1_score(y_test, predicted, average='weighted'))"
   ]
  },
  {
   "cell_type": "markdown",
   "metadata": {},
   "source": [
    "#### Naive Bayesian"
   ]
  },
  {
   "cell_type": "code",
   "execution_count": 31,
   "metadata": {},
   "outputs": [
    {
     "name": "stdout",
     "output_type": "stream",
     "text": [
      "Accuracy: 0.26436781609195403\n",
      "F1-score macro: 0.46689518132141083\n",
      "F1-score micro: 0.5158371040723982\n",
      "F1-score weighted: 0.5290653193268148\n"
     ]
    }
   ],
   "source": [
    "classifier = BinaryRelevance(GaussianNB())\n",
    "# train\n",
    "classifier.fit(X_train, y_train)\n",
    "# predict\n",
    "y_pred = classifier.predict(X_test)\n",
    "# metrics\n",
    "print_evaluation_scores(y_test, y_pred)"
   ]
  },
  {
   "cell_type": "markdown",
   "metadata": {},
   "source": [
    "#### Classifier Chain"
   ]
  },
  {
   "cell_type": "code",
   "execution_count": 142,
   "metadata": {},
   "outputs": [
    {
     "name": "stdout",
     "output_type": "stream",
     "text": [
      "Accuracy: 0.5057471264367817\n",
      "F1-score macro: 0.3329065300896287\n",
      "F1-score micro: 0.6354166666666667\n",
      "F1-score weighted: 0.5031888299493933\n"
     ]
    }
   ],
   "source": [
    "from skmultilearn.problem_transform import ClassifierChain\n",
    "from sklearn.linear_model import LogisticRegression\n",
    "\n",
    "# initialize classifier chains multi-label classifier\n",
    "classifier = ClassifierChain(LogisticRegression())\n",
    "# Training logistic regression model on train data\n",
    "classifier.fit(X_train, y_train)\n",
    "# predict\n",
    "y_pred = classifier.predict(X_test)\n",
    "# metrics\n",
    "print_evaluation_scores(y_test, y_pred)"
   ]
  },
  {
   "cell_type": "markdown",
   "metadata": {},
   "source": [
    "#### Label Powerset"
   ]
  },
  {
   "cell_type": "code",
   "execution_count": 141,
   "metadata": {},
   "outputs": [
    {
     "ename": "KeyboardInterrupt",
     "evalue": "",
     "output_type": "error",
     "traceback": [
      "\u001b[0;31m---------------------------------------------------------------------------\u001b[0m",
      "\u001b[0;31mKeyboardInterrupt\u001b[0m                         Traceback (most recent call last)",
      "\u001b[0;32m<ipython-input-141-b047ec0da0fd>\u001b[0m in \u001b[0;36m<module>\u001b[0;34m()\u001b[0m\n\u001b[1;32m      4\u001b[0m \u001b[0mclassifier\u001b[0m \u001b[0;34m=\u001b[0m \u001b[0mLabelPowerset\u001b[0m\u001b[0;34m(\u001b[0m\u001b[0mLogisticRegression\u001b[0m\u001b[0;34m(\u001b[0m\u001b[0mpenalty\u001b[0m\u001b[0;34m=\u001b[0m\u001b[0;34m'l1'\u001b[0m\u001b[0;34m,\u001b[0m \u001b[0mC\u001b[0m\u001b[0;34m=\u001b[0m\u001b[0;36m6.0\u001b[0m\u001b[0;34m,\u001b[0m \u001b[0msolver\u001b[0m\u001b[0;34m=\u001b[0m\u001b[0;34m'saga'\u001b[0m\u001b[0;34m,\u001b[0m \u001b[0mrandom_state\u001b[0m\u001b[0;34m=\u001b[0m\u001b[0;36m0\u001b[0m\u001b[0;34m)\u001b[0m\u001b[0;34m)\u001b[0m\u001b[0;34m\u001b[0m\u001b[0m\n\u001b[1;32m      5\u001b[0m \u001b[0;31m# train\u001b[0m\u001b[0;34m\u001b[0m\u001b[0;34m\u001b[0m\u001b[0m\n\u001b[0;32m----> 6\u001b[0;31m \u001b[0mclassifier\u001b[0m\u001b[0;34m.\u001b[0m\u001b[0mfit\u001b[0m\u001b[0;34m(\u001b[0m\u001b[0mX_train\u001b[0m\u001b[0;34m,\u001b[0m \u001b[0my_train\u001b[0m\u001b[0;34m)\u001b[0m\u001b[0;34m\u001b[0m\u001b[0m\n\u001b[0m\u001b[1;32m      7\u001b[0m \u001b[0;31m# predict\u001b[0m\u001b[0;34m\u001b[0m\u001b[0;34m\u001b[0m\u001b[0m\n\u001b[1;32m      8\u001b[0m \u001b[0mpredictions\u001b[0m \u001b[0;34m=\u001b[0m \u001b[0mclassifier\u001b[0m\u001b[0;34m.\u001b[0m\u001b[0mpredict\u001b[0m\u001b[0;34m(\u001b[0m\u001b[0mX_test\u001b[0m\u001b[0;34m)\u001b[0m\u001b[0;34m\u001b[0m\u001b[0m\n",
      "\u001b[0;32m~/venv/lib/python3.6/site-packages/skmultilearn/problem_transform/lp.py\u001b[0m in \u001b[0;36mfit\u001b[0;34m(self, X, y)\u001b[0m\n\u001b[1;32m    139\u001b[0m \u001b[0;34m\u001b[0m\u001b[0m\n\u001b[1;32m    140\u001b[0m         self.classifier.fit(self._ensure_input_format(X),\n\u001b[0;32m--> 141\u001b[0;31m                             self.transform(y))\n\u001b[0m\u001b[1;32m    142\u001b[0m \u001b[0;34m\u001b[0m\u001b[0m\n\u001b[1;32m    143\u001b[0m         \u001b[0;32mreturn\u001b[0m \u001b[0mself\u001b[0m\u001b[0;34m\u001b[0m\u001b[0m\n",
      "\u001b[0;32m~/venv/lib/python3.6/site-packages/sklearn/linear_model/logistic.py\u001b[0m in \u001b[0;36mfit\u001b[0;34m(self, X, y, sample_weight)\u001b[0m\n\u001b[1;32m   1604\u001b[0m                       \u001b[0mpenalty\u001b[0m\u001b[0;34m=\u001b[0m\u001b[0mpenalty\u001b[0m\u001b[0;34m,\u001b[0m \u001b[0mmax_squared_sum\u001b[0m\u001b[0;34m=\u001b[0m\u001b[0mmax_squared_sum\u001b[0m\u001b[0;34m,\u001b[0m\u001b[0;34m\u001b[0m\u001b[0m\n\u001b[1;32m   1605\u001b[0m                       sample_weight=sample_weight)\n\u001b[0;32m-> 1606\u001b[0;31m             for class_, warm_start_coef_ in zip(classes_, warm_start_coef))\n\u001b[0m\u001b[1;32m   1607\u001b[0m \u001b[0;34m\u001b[0m\u001b[0m\n\u001b[1;32m   1608\u001b[0m         \u001b[0mfold_coefs_\u001b[0m\u001b[0;34m,\u001b[0m \u001b[0m_\u001b[0m\u001b[0;34m,\u001b[0m \u001b[0mn_iter_\u001b[0m \u001b[0;34m=\u001b[0m \u001b[0mzip\u001b[0m\u001b[0;34m(\u001b[0m\u001b[0;34m*\u001b[0m\u001b[0mfold_coefs_\u001b[0m\u001b[0;34m)\u001b[0m\u001b[0;34m\u001b[0m\u001b[0m\n",
      "\u001b[0;32m~/venv/lib/python3.6/site-packages/joblib/parallel.py\u001b[0m in \u001b[0;36m__call__\u001b[0;34m(self, iterable)\u001b[0m\n\u001b[1;32m    922\u001b[0m                 \u001b[0mself\u001b[0m\u001b[0;34m.\u001b[0m\u001b[0m_iterating\u001b[0m \u001b[0;34m=\u001b[0m \u001b[0mself\u001b[0m\u001b[0;34m.\u001b[0m\u001b[0m_original_iterator\u001b[0m \u001b[0;32mis\u001b[0m \u001b[0;32mnot\u001b[0m \u001b[0;32mNone\u001b[0m\u001b[0;34m\u001b[0m\u001b[0m\n\u001b[1;32m    923\u001b[0m \u001b[0;34m\u001b[0m\u001b[0m\n\u001b[0;32m--> 924\u001b[0;31m             \u001b[0;32mwhile\u001b[0m \u001b[0mself\u001b[0m\u001b[0;34m.\u001b[0m\u001b[0mdispatch_one_batch\u001b[0m\u001b[0;34m(\u001b[0m\u001b[0miterator\u001b[0m\u001b[0;34m)\u001b[0m\u001b[0;34m:\u001b[0m\u001b[0;34m\u001b[0m\u001b[0m\n\u001b[0m\u001b[1;32m    925\u001b[0m                 \u001b[0;32mpass\u001b[0m\u001b[0;34m\u001b[0m\u001b[0m\n\u001b[1;32m    926\u001b[0m \u001b[0;34m\u001b[0m\u001b[0m\n",
      "\u001b[0;32m~/venv/lib/python3.6/site-packages/joblib/parallel.py\u001b[0m in \u001b[0;36mdispatch_one_batch\u001b[0;34m(self, iterator)\u001b[0m\n\u001b[1;32m    757\u001b[0m                 \u001b[0;32mreturn\u001b[0m \u001b[0;32mFalse\u001b[0m\u001b[0;34m\u001b[0m\u001b[0m\n\u001b[1;32m    758\u001b[0m             \u001b[0;32melse\u001b[0m\u001b[0;34m:\u001b[0m\u001b[0;34m\u001b[0m\u001b[0m\n\u001b[0;32m--> 759\u001b[0;31m                 \u001b[0mself\u001b[0m\u001b[0;34m.\u001b[0m\u001b[0m_dispatch\u001b[0m\u001b[0;34m(\u001b[0m\u001b[0mtasks\u001b[0m\u001b[0;34m)\u001b[0m\u001b[0;34m\u001b[0m\u001b[0m\n\u001b[0m\u001b[1;32m    760\u001b[0m                 \u001b[0;32mreturn\u001b[0m \u001b[0;32mTrue\u001b[0m\u001b[0;34m\u001b[0m\u001b[0m\n\u001b[1;32m    761\u001b[0m \u001b[0;34m\u001b[0m\u001b[0m\n",
      "\u001b[0;32m~/venv/lib/python3.6/site-packages/joblib/parallel.py\u001b[0m in \u001b[0;36m_dispatch\u001b[0;34m(self, batch)\u001b[0m\n\u001b[1;32m    714\u001b[0m         \u001b[0;32mwith\u001b[0m \u001b[0mself\u001b[0m\u001b[0;34m.\u001b[0m\u001b[0m_lock\u001b[0m\u001b[0;34m:\u001b[0m\u001b[0;34m\u001b[0m\u001b[0m\n\u001b[1;32m    715\u001b[0m             \u001b[0mjob_idx\u001b[0m \u001b[0;34m=\u001b[0m \u001b[0mlen\u001b[0m\u001b[0;34m(\u001b[0m\u001b[0mself\u001b[0m\u001b[0;34m.\u001b[0m\u001b[0m_jobs\u001b[0m\u001b[0;34m)\u001b[0m\u001b[0;34m\u001b[0m\u001b[0m\n\u001b[0;32m--> 716\u001b[0;31m             \u001b[0mjob\u001b[0m \u001b[0;34m=\u001b[0m \u001b[0mself\u001b[0m\u001b[0;34m.\u001b[0m\u001b[0m_backend\u001b[0m\u001b[0;34m.\u001b[0m\u001b[0mapply_async\u001b[0m\u001b[0;34m(\u001b[0m\u001b[0mbatch\u001b[0m\u001b[0;34m,\u001b[0m \u001b[0mcallback\u001b[0m\u001b[0;34m=\u001b[0m\u001b[0mcb\u001b[0m\u001b[0;34m)\u001b[0m\u001b[0;34m\u001b[0m\u001b[0m\n\u001b[0m\u001b[1;32m    717\u001b[0m             \u001b[0;31m# A job can complete so quickly than its callback is\u001b[0m\u001b[0;34m\u001b[0m\u001b[0;34m\u001b[0m\u001b[0m\n\u001b[1;32m    718\u001b[0m             \u001b[0;31m# called before we get here, causing self._jobs to\u001b[0m\u001b[0;34m\u001b[0m\u001b[0;34m\u001b[0m\u001b[0m\n",
      "\u001b[0;32m~/venv/lib/python3.6/site-packages/joblib/_parallel_backends.py\u001b[0m in \u001b[0;36mapply_async\u001b[0;34m(self, func, callback)\u001b[0m\n\u001b[1;32m    180\u001b[0m     \u001b[0;32mdef\u001b[0m \u001b[0mapply_async\u001b[0m\u001b[0;34m(\u001b[0m\u001b[0mself\u001b[0m\u001b[0;34m,\u001b[0m \u001b[0mfunc\u001b[0m\u001b[0;34m,\u001b[0m \u001b[0mcallback\u001b[0m\u001b[0;34m=\u001b[0m\u001b[0;32mNone\u001b[0m\u001b[0;34m)\u001b[0m\u001b[0;34m:\u001b[0m\u001b[0;34m\u001b[0m\u001b[0m\n\u001b[1;32m    181\u001b[0m         \u001b[0;34m\"\"\"Schedule a func to be run\"\"\"\u001b[0m\u001b[0;34m\u001b[0m\u001b[0m\n\u001b[0;32m--> 182\u001b[0;31m         \u001b[0mresult\u001b[0m \u001b[0;34m=\u001b[0m \u001b[0mImmediateResult\u001b[0m\u001b[0;34m(\u001b[0m\u001b[0mfunc\u001b[0m\u001b[0;34m)\u001b[0m\u001b[0;34m\u001b[0m\u001b[0m\n\u001b[0m\u001b[1;32m    183\u001b[0m         \u001b[0;32mif\u001b[0m \u001b[0mcallback\u001b[0m\u001b[0;34m:\u001b[0m\u001b[0;34m\u001b[0m\u001b[0m\n\u001b[1;32m    184\u001b[0m             \u001b[0mcallback\u001b[0m\u001b[0;34m(\u001b[0m\u001b[0mresult\u001b[0m\u001b[0;34m)\u001b[0m\u001b[0;34m\u001b[0m\u001b[0m\n",
      "\u001b[0;32m~/venv/lib/python3.6/site-packages/joblib/_parallel_backends.py\u001b[0m in \u001b[0;36m__init__\u001b[0;34m(self, batch)\u001b[0m\n\u001b[1;32m    547\u001b[0m         \u001b[0;31m# Don't delay the application, to avoid keeping the input\u001b[0m\u001b[0;34m\u001b[0m\u001b[0;34m\u001b[0m\u001b[0m\n\u001b[1;32m    548\u001b[0m         \u001b[0;31m# arguments in memory\u001b[0m\u001b[0;34m\u001b[0m\u001b[0;34m\u001b[0m\u001b[0m\n\u001b[0;32m--> 549\u001b[0;31m         \u001b[0mself\u001b[0m\u001b[0;34m.\u001b[0m\u001b[0mresults\u001b[0m \u001b[0;34m=\u001b[0m \u001b[0mbatch\u001b[0m\u001b[0;34m(\u001b[0m\u001b[0;34m)\u001b[0m\u001b[0;34m\u001b[0m\u001b[0m\n\u001b[0m\u001b[1;32m    550\u001b[0m \u001b[0;34m\u001b[0m\u001b[0m\n\u001b[1;32m    551\u001b[0m     \u001b[0;32mdef\u001b[0m \u001b[0mget\u001b[0m\u001b[0;34m(\u001b[0m\u001b[0mself\u001b[0m\u001b[0;34m)\u001b[0m\u001b[0;34m:\u001b[0m\u001b[0;34m\u001b[0m\u001b[0m\n",
      "\u001b[0;32m~/venv/lib/python3.6/site-packages/joblib/parallel.py\u001b[0m in \u001b[0;36m__call__\u001b[0;34m(self)\u001b[0m\n\u001b[1;32m    223\u001b[0m         \u001b[0;32mwith\u001b[0m \u001b[0mparallel_backend\u001b[0m\u001b[0;34m(\u001b[0m\u001b[0mself\u001b[0m\u001b[0;34m.\u001b[0m\u001b[0m_backend\u001b[0m\u001b[0;34m,\u001b[0m \u001b[0mn_jobs\u001b[0m\u001b[0;34m=\u001b[0m\u001b[0mself\u001b[0m\u001b[0;34m.\u001b[0m\u001b[0m_n_jobs\u001b[0m\u001b[0;34m)\u001b[0m\u001b[0;34m:\u001b[0m\u001b[0;34m\u001b[0m\u001b[0m\n\u001b[1;32m    224\u001b[0m             return [func(*args, **kwargs)\n\u001b[0;32m--> 225\u001b[0;31m                     for func, args, kwargs in self.items]\n\u001b[0m\u001b[1;32m    226\u001b[0m \u001b[0;34m\u001b[0m\u001b[0m\n\u001b[1;32m    227\u001b[0m     \u001b[0;32mdef\u001b[0m \u001b[0m__len__\u001b[0m\u001b[0;34m(\u001b[0m\u001b[0mself\u001b[0m\u001b[0;34m)\u001b[0m\u001b[0;34m:\u001b[0m\u001b[0;34m\u001b[0m\u001b[0m\n",
      "\u001b[0;32m~/venv/lib/python3.6/site-packages/joblib/parallel.py\u001b[0m in \u001b[0;36m<listcomp>\u001b[0;34m(.0)\u001b[0m\n\u001b[1;32m    223\u001b[0m         \u001b[0;32mwith\u001b[0m \u001b[0mparallel_backend\u001b[0m\u001b[0;34m(\u001b[0m\u001b[0mself\u001b[0m\u001b[0;34m.\u001b[0m\u001b[0m_backend\u001b[0m\u001b[0;34m,\u001b[0m \u001b[0mn_jobs\u001b[0m\u001b[0;34m=\u001b[0m\u001b[0mself\u001b[0m\u001b[0;34m.\u001b[0m\u001b[0m_n_jobs\u001b[0m\u001b[0;34m)\u001b[0m\u001b[0;34m:\u001b[0m\u001b[0;34m\u001b[0m\u001b[0m\n\u001b[1;32m    224\u001b[0m             return [func(*args, **kwargs)\n\u001b[0;32m--> 225\u001b[0;31m                     for func, args, kwargs in self.items]\n\u001b[0m\u001b[1;32m    226\u001b[0m \u001b[0;34m\u001b[0m\u001b[0m\n\u001b[1;32m    227\u001b[0m     \u001b[0;32mdef\u001b[0m \u001b[0m__len__\u001b[0m\u001b[0;34m(\u001b[0m\u001b[0mself\u001b[0m\u001b[0;34m)\u001b[0m\u001b[0;34m:\u001b[0m\u001b[0;34m\u001b[0m\u001b[0m\n",
      "\u001b[0;32m~/venv/lib/python3.6/site-packages/sklearn/linear_model/logistic.py\u001b[0m in \u001b[0;36m_logistic_regression_path\u001b[0;34m(X, y, pos_class, Cs, fit_intercept, max_iter, tol, verbose, solver, coef, class_weight, dual, penalty, intercept_scaling, multi_class, random_state, check_input, max_squared_sum, sample_weight, l1_ratio)\u001b[0m\n\u001b[1;32m    984\u001b[0m                 \u001b[0mbeta\u001b[0m\u001b[0;34m,\u001b[0m \u001b[0mmax_iter\u001b[0m\u001b[0;34m,\u001b[0m \u001b[0mtol\u001b[0m\u001b[0;34m,\u001b[0m\u001b[0;34m\u001b[0m\u001b[0m\n\u001b[1;32m    985\u001b[0m                 \u001b[0mverbose\u001b[0m\u001b[0;34m,\u001b[0m \u001b[0mrandom_state\u001b[0m\u001b[0;34m,\u001b[0m \u001b[0;32mFalse\u001b[0m\u001b[0;34m,\u001b[0m \u001b[0mmax_squared_sum\u001b[0m\u001b[0;34m,\u001b[0m \u001b[0mwarm_start_sag\u001b[0m\u001b[0;34m,\u001b[0m\u001b[0;34m\u001b[0m\u001b[0m\n\u001b[0;32m--> 986\u001b[0;31m                 is_saga=(solver == 'saga'))\n\u001b[0m\u001b[1;32m    987\u001b[0m \u001b[0;34m\u001b[0m\u001b[0m\n\u001b[1;32m    988\u001b[0m         \u001b[0;32melse\u001b[0m\u001b[0;34m:\u001b[0m\u001b[0;34m\u001b[0m\u001b[0m\n",
      "\u001b[0;32m~/venv/lib/python3.6/site-packages/sklearn/linear_model/sag.py\u001b[0m in \u001b[0;36msag_solver\u001b[0;34m(X, y, sample_weight, loss, alpha, beta, max_iter, tol, verbose, random_state, check_input, max_squared_sum, warm_start_mem, is_saga)\u001b[0m\n\u001b[1;32m    331\u001b[0m                             \u001b[0mintercept_decay\u001b[0m\u001b[0;34m,\u001b[0m\u001b[0;34m\u001b[0m\u001b[0m\n\u001b[1;32m    332\u001b[0m                             \u001b[0mis_saga\u001b[0m\u001b[0;34m,\u001b[0m\u001b[0;34m\u001b[0m\u001b[0m\n\u001b[0;32m--> 333\u001b[0;31m                             verbose)\n\u001b[0m\u001b[1;32m    334\u001b[0m \u001b[0;34m\u001b[0m\u001b[0m\n\u001b[1;32m    335\u001b[0m     \u001b[0;32mif\u001b[0m \u001b[0mn_iter_\u001b[0m \u001b[0;34m==\u001b[0m \u001b[0mmax_iter\u001b[0m\u001b[0;34m:\u001b[0m\u001b[0;34m\u001b[0m\u001b[0m\n",
      "\u001b[0;31mKeyboardInterrupt\u001b[0m: "
     ]
    }
   ],
   "source": [
    "# using Label Powerset\n",
    "from skmultilearn.problem_transform import LabelPowerset\n",
    "# initialize label powerset multi-label classifier\n",
    "classifier = LabelPowerset(LogisticRegression(penalty='l1', C=6.0, solver='saga', random_state=0))\n",
    "# train\n",
    "classifier.fit(X_train, y_train)\n",
    "# predict\n",
    "predictions = classifier.predict(X_test)\n",
    "# metrics\n",
    "print_evaluation_scores(y_test, y_pred)"
   ]
  },
  {
   "cell_type": "markdown",
   "metadata": {},
   "source": [
    "#### ML-KNN"
   ]
  },
  {
   "cell_type": "code",
   "execution_count": 34,
   "metadata": {},
   "outputs": [
    {
     "name": "stdout",
     "output_type": "stream",
     "text": [
      "Accuracy: 0.41379310344827586\n",
      "F1-score macro: 0.42176101957470785\n",
      "F1-score micro: 0.6030927835051546\n",
      "F1-score weighted: 0.5321912063227097\n"
     ]
    }
   ],
   "source": [
    "from skmultilearn.adapt import MLkNN\n",
    "from scipy.sparse import csr_matrix, lil_matrix\n",
    "\n",
    "classifier_new = MLkNN(k=55)\n",
    "# Note that this classifier can throw up errors when handling sparse matrices.\n",
    "X_train = lil_matrix(X_train).toarray()\n",
    "y_train = lil_matrix(y_train).toarray()\n",
    "X_test = lil_matrix(X_test).toarray()\n",
    "# train\n",
    "classifier_new.fit(X_train, y_train)\n",
    "# predict\n",
    "y_pred = classifier_new.predict(X_test)\n",
    "# metrics\n",
    "print_evaluation_scores(y_test, y_pred)"
   ]
  },
  {
   "cell_type": "markdown",
   "metadata": {},
   "source": [
    "#### logistic Regression"
   ]
  },
  {
   "cell_type": "code",
   "execution_count": 35,
   "metadata": {},
   "outputs": [
    {
     "name": "stdout",
     "output_type": "stream",
     "text": [
      "Accuracy: 0.5\n",
      "F1-score macro: 0.5361508215503997\n",
      "F1-score micro: 0.6581632653061225\n",
      "F1-score weighted: 0.6200334196451878\n"
     ]
    }
   ],
   "source": [
    "from sklearn.multiclass import OneVsRestClassifier\n",
    "from sklearn.linear_model import LogisticRegression, RidgeClassifier\n",
    "\n",
    "lr = LogisticRegression(penalty='l2', C=6.0, solver='saga', random_state=0, max_iter=20)\n",
    "ovr = OneVsRestClassifier(lr)\n",
    "classifier_tfidf =ovr.fit(X_train, y_train)\n",
    "y_pred = classifier_tfidf.predict(X_test)\n",
    "\n",
    "print_evaluation_scores(y_test, y_pred)"
   ]
  },
  {
   "cell_type": "markdown",
   "metadata": {},
   "source": [
    "#### Logistic Regresson for each category"
   ]
  },
  {
   "cell_type": "code",
   "execution_count": 55,
   "metadata": {},
   "outputs": [
    {
     "name": "stdout",
     "output_type": "stream",
     "text": [
      "==========================================================\n",
      "Accuracy: 0.6896551724137931\n",
      "F1-score macro: 0.6164897959183673\n",
      "F1-score micro: 0.6896551724137931\n",
      "F1-score weighted: 0.6626995073891625\n",
      "==========================================================\n",
      "Accuracy: 0.735632183908046\n",
      "F1-score macro: 0.6501748251748252\n",
      "F1-score micro: 0.735632183908046\n",
      "F1-score weighted: 0.7117836186801705\n",
      "==========================================================\n",
      "Accuracy: 0.8103448275862069\n",
      "F1-score macro: 0.6209150326797386\n",
      "F1-score micro: 0.8103448275862069\n",
      "F1-score weighted: 0.771842836751559\n"
     ]
    }
   ],
   "source": [
    "for i in range(y_train.shape[1]):\n",
    "    lr = LogisticRegression(penalty='l2', C=6.0, solver='saga', random_state=0, max_iter=20)\n",
    "    ovr = OneVsRestClassifier(lr)\n",
    "    classifier_tfidf =ovr.fit(X_train, y_train[:, i])\n",
    "    y_pred = classifier_tfidf.predict(X_test)\n",
    "    \n",
    "    print('==========================================================')\n",
    "    print_evaluation_scores(y_test[:,i], y_pred)"
   ]
  },
  {
   "cell_type": "markdown",
   "metadata": {},
   "source": [
    "### Fine-tuning Model"
   ]
  },
  {
   "cell_type": "markdown",
   "metadata": {},
   "source": [
    "#### TD-IDF + logistic regression\n",
    "\n",
    "Best Parameters:\n",
    "\n",
    "- tf-idf\n",
    "\n",
    "max_df 1.0\n",
    "\n",
    "min_df 0.0\n",
    "\n",
    "ngram (1,2) -  we dont remove those wrong words\n",
    "\n",
    "norm l2\n",
    "\n",
    "max_features - use all\n",
    "\n",
    "- split\n",
    "\n",
    "split 0.1 for test set\n",
    "\n",
    "- lr\n",
    "\n",
    "penalty - l1\n",
    "\n",
    "C - 2.5 for frequency features 6.5 for binary features\n",
    "\n",
    "max_iter - > 1000\n"
   ]
  },
  {
   "cell_type": "code",
   "execution_count": 173,
   "metadata": {},
   "outputs": [],
   "source": [
    "from sklearn.multiclass import OneVsRestClassifier\n",
    "from sklearn.linear_model import LogisticRegression, RidgeClassifier\n",
    "\n",
    "def td_idf_model(df, target_columns, classifier, parameters, multi = False):\n",
    "\n",
    "    X, y = df['commit_message'].values, df[target_columns].values\n",
    "    \n",
    "    # td-idf\n",
    "    tfidf_vectorizer = TfidfVectorizer(max_df = parameters['max_df'],\n",
    "                                       min_df = parameters['min_df'],\n",
    "                                       max_features = parameters['max_features'],\n",
    "                                       ngram_range=parameters['ngram'],\n",
    "                                       norm=parameters['norm'],\n",
    "                                       binary = parameters['binary'],\n",
    "                                       use_idf = parameters['use_idf'],\n",
    "                                       smooth_idf = parameters['smooth_idf'],\n",
    "                                       sublinear_tf = parameters['sublinear_tf'])\n",
    "    \n",
    "    X_tfidf = tfidf_vectorizer.fit_transform(X)\n",
    "    tfidf_vocab = tfidf_vectorizer.vocabulary_\n",
    "    tfidf_reversed_vocab = {i:word for word,i in tfidf_vocab.items()}\n",
    "    \n",
    "    # splite test and trainset\n",
    "    X_train, X_test, y_train, y_test = train_test_split(X_tfidf, y, test_size=parameters['split_size'], random_state=42)\n",
    "    print(X_train.shape)\n",
    "    \n",
    "    # model\n",
    "    if multi == False:\n",
    "        ovr = OneVsRestClassifier(classifier)\n",
    "        classifier_tfidf =ovr.fit(X_train, y_train)\n",
    "    else:\n",
    "        classifier_tfidf = classifier.fit(X_train, y_train)\n",
    "    \n",
    "    #print(classifier)\n",
    "        \n",
    "    y_pred = classifier_tfidf.predict(X_test)\n",
    "\n",
    "    print_evaluation_scores(y_test, y_pred)"
   ]
  },
  {
   "cell_type": "code",
   "execution_count": 134,
   "metadata": {},
   "outputs": [
    {
     "name": "stdout",
     "output_type": "stream",
     "text": [
      "==================================================\n",
      "parameter: 2.5\n",
      "(782, 17992)\n",
      "Accuracy: 0.5977011494252874\n",
      "F1-score macro: 0.5671957671957673\n",
      "F1-score micro: 0.7272727272727272\n",
      "F1-score weighted: 0.6759788359788361\n"
     ]
    }
   ],
   "source": [
    "parameters = {'max_df':1.0, 'min_df':0.0, 'ngram':(1,2), 'max_features':None, 'norm':'l2', \n",
    "              'binary': False,'use_idf':True, 'smooth_idf':True, 'sublinear_tf':False, \n",
    "              'split_size':0.1,'lr_penalty':'l1', 'lr_C':6.5, 'l1ratio':None, 'lr_maxiter':1000, 'lr_class_weight':None}\n",
    "\n",
    " \n",
    "for lr_C in [2.5]:\n",
    "    print('==================================================')\n",
    "    print('parameter:', lr_C)\n",
    "    parameters['lr_C'] = lr_C\n",
    "    \n",
    "    lr = LogisticRegression(penalty=parameters['lr_penalty'], C=parameters['lr_C'], solver='saga', l1_ratio = parameters['l1ratio'], \n",
    "                            random_state=0, max_iter=parameters['lr_maxiter'], class_weight=parameters['lr_class_weight'])\n",
    "    \n",
    "    td_idf_model(data, new_target,lr, parameters)"
   ]
  },
  {
   "cell_type": "markdown",
   "metadata": {},
   "source": [
    "#### TD-IDF + Random Forest\n",
    "\n",
    "**Best Parameters**:\n",
    "\n",
    "n_estimators 80\n",
    "\n",
    "max_depth 40\n",
    "\n",
    "max_features 4000\n",
    "\n",
    "criterion 'gini\n",
    "\n",
    "min_samples_leaf 1\n",
    "\n",
    "max_leaf_ndoes None"
   ]
  },
  {
   "cell_type": "code",
   "execution_count": 147,
   "metadata": {},
   "outputs": [],
   "source": [
    "from sklearn.ensemble import RandomForestClassifier"
   ]
  },
  {
   "cell_type": "code",
   "execution_count": 280,
   "metadata": {},
   "outputs": [
    {
     "name": "stdout",
     "output_type": "stream",
     "text": [
      "==================================================\n",
      "parameter: 100\n",
      "(782, 17992)\n",
      "Accuracy: 0.5862068965517241\n",
      "F1-score macro: 0.5273611595550906\n",
      "F1-score micro: 0.6839378238341969\n",
      "F1-score weighted: 0.6499681653849773\n"
     ]
    }
   ],
   "source": [
    "parameters = {'max_df':1.0, 'min_df':0.0, 'ngram':(1,2), 'max_features':None, 'norm':'l2', \n",
    "              'binary': False,'use_idf':True, 'smooth_idf':True, 'sublinear_tf':False, 'split_size':0.1}\n",
    "\n",
    " \n",
    "for n_estimators in [80]:\n",
    "    for max_depth in [40]:\n",
    "        for max_leaf_nodes in [100]:\n",
    "            print('==================================================')\n",
    "            print('parameter:',max_leaf_nodes)\n",
    "            #parameters['lr_C'] = lr_C\n",
    "            clf = RandomForestClassifier(n_estimators=80, \n",
    "                                         max_depth=40,\n",
    "                                         max_features = 4000,\n",
    "                                         criterion = 'gini',\n",
    "                                         #min_samples_split = 0.1,\n",
    "                                         min_samples_leaf = 1,\n",
    "                                         max_leaf_nodes = None,\n",
    "                                         random_state=0)\n",
    "            td_idf_model(data, new_target, clf, parameters, multi=True)"
   ]
  }
 ],
 "metadata": {
  "kernelspec": {
   "display_name": "Python 3",
   "language": "python",
   "name": "python3"
  },
  "language_info": {
   "codemirror_mode": {
    "name": "ipython",
    "version": 3
   },
   "file_extension": ".py",
   "mimetype": "text/x-python",
   "name": "python",
   "nbconvert_exporter": "python",
   "pygments_lexer": "ipython3",
   "version": "3.6.5"
  }
 },
 "nbformat": 4,
 "nbformat_minor": 2
}

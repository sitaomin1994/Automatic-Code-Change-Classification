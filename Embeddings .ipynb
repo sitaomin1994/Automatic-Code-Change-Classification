{
 "cells": [
  {
   "cell_type": "code",
   "execution_count": 8,
   "metadata": {},
   "outputs": [],
   "source": [
    "from __future__ import absolute_import\n",
    "from __future__ import division\n",
    "from __future__ import print_function\n",
    "\n",
    "import sys\n",
    "import os\n",
    "import collections\n",
    "import json\n",
    "import re\n",
    "import pprint\n",
    "import numpy as np\n",
    "import tensorflow as tf\n",
    "import matplotlib.pyplot as plt \n",
    "%matplotlib inline "
   ]
  },
  {
   "cell_type": "code",
   "execution_count": 5,
   "metadata": {},
   "outputs": [
    {
     "name": "stdout",
     "output_type": "stream",
     "text": [
      "[['INS Block to MethodDeclaration at 6', 'MOVE from Block', 'MOVE from Block', 'UPDATE from add to addEvent', 'INS Block to EnhancedForStatement at 2', 'MOVE from Block', 'DEL SimpleName: externalEventQueue', 'DEL Block', 'DEL SimpleName: externalEventQueue', 'DEL Block'], ['MOVE from Block', 'UPDATE from triggerEvent to addEvent', 'MOVE from Block', 'DEL TryStatement', 'DEL TryStatement'], ['MOVE from MethodDeclaration', 'MOVE from Block', 'MOVE from Block', 'UPDATE from triggerEvent to addEvent', 'DEL TryStatement', 'DEL Block']]\n"
     ]
    }
   ],
   "source": [
    "# parse json to files and actions\n",
    "\n",
    "def parse_json(filepath):\n",
    "    '''\n",
    "    function used to parse json of each commit json file\n",
    "    \n",
    "    Args:\n",
    "        filepath_list - list of filepaths\n",
    "    \n",
    "    Returns:\n",
    "        files_json - list object contains parsed information\n",
    "    \n",
    "    '''\n",
    "    number_of_files = []\n",
    "    files_json = []\n",
    "    \n",
    "    # each commits\n",
    "    files = os.listdir(filepath)\n",
    "    for path in files:\n",
    "        with open(filepath + path,'rb') as f:\n",
    "            data = json.load(f)\n",
    "            files_list = []\n",
    "            # each file in commits\n",
    "            for file in data['files']:\n",
    "                # parse only cluster file\n",
    "                for key in file.keys():\n",
    "                    if re.match('^.*_cluster$',key):\n",
    "                        actions_list = []\n",
    "                        actions = file[key]['actions']\n",
    "                        # each action in file\n",
    "                        for action in actions:\n",
    "                            actions_list.append(action['root'])\n",
    "                        files_list.append(actions_list)\n",
    "        \n",
    "        files_json.append(files_list)        \n",
    "    \n",
    "    # return\n",
    "    return files_json\n",
    "pwd = os.getcwd()\n",
    "folder_path = pwd + '/tmp_JSON_labeled_commits/'\n",
    "files = parse_json(folder_path)\n",
    "print(files[0])"
   ]
  },
  {
   "cell_type": "code",
   "execution_count": 6,
   "metadata": {},
   "outputs": [],
   "source": [
    "def preprocess_roots(files_data):\n",
    "    counting = {}\n",
    "    for file_index, files in enumerate(files_data):\n",
    "        for root_index, roots in enumerate(files):\n",
    "            for action_index, actions in enumerate(roots):\n",
    "                temp = actions.split(' at ')[0]\n",
    "                tempq = []\n",
    "                if temp.startswith('INS'):\n",
    "                    tempq.append('INS')\n",
    "                    words = [temp.split('INS ')[1].split(' to ')[0]\n",
    "                             ] + [temp.split('INS ')[1].split(' to ')[-1]]\n",
    "                    for items in words:\n",
    "\n",
    "                        items = items.split(': ')[0]\n",
    "                        tempq.append(items)\n",
    "                    temp = '_'.join(tempq)\n",
    "\n",
    "                if temp.startswith('UPDATE'):\n",
    "                    temp = 'UPDATE'\n",
    "                if temp.startswith('MOVE'):\n",
    "                    temp2 = temp.split(' from ')[1]\n",
    "                    tempq.append('MOVE')\n",
    "                    tempq.append(temp2.split(': ')[0])\n",
    "                    temp = '_'.join(tempq)\n",
    "\n",
    "                if temp.startswith('DEL'):\n",
    "                    tempq.append('DEL')\n",
    "                    tempq.append(temp.split('DEL ')[1].split(': ')[0])\n",
    "                    temp = '_'.join(tempq)\n",
    "                counting[temp] = counting.get(temp, 0) + 1\n",
    "                files_data[file_index][root_index][action_index] = temp\n",
    "    dic = {}\n",
    "    i = 0\n",
    "    for k, v in counting.items():\n",
    "        dic[k] = i  \n",
    "        i += 1\n",
    "    return dic, files_data\n",
    "\n",
    "dic, datas = preprocess_roots(files)"
   ]
  },
  {
   "cell_type": "code",
   "execution_count": 7,
   "metadata": {},
   "outputs": [
    {
     "data": {
      "image/png": "[encoded data removed]",
      "text/plain": [
       "<matplotlib.figure.Figure at 0x7f746a932be0>"
      ]
     },
     "metadata": {
      "needs_background": "light"
     },
     "output_type": "display_data"
    }
   ],
   "source": [
    "def actions2sentence(datas):\n",
    "    data_total = []\n",
    "    for files in datas:\n",
    "        data4file = []\n",
    "        for roots in files:\n",
    "            sentence = ' '.join(roots)\n",
    "            data4file.append(sentence)\n",
    "        data_total.append(data4file)\n",
    "    return data_total\n",
    "\n",
    "\n",
    "training_data = actions2sentence(datas)\n",
    "\n",
    "def get_seqlength(training_data):\n",
    "    max_root_len = 0\n",
    "    seqlength_list = []\n",
    "    for items in training_data:\n",
    "        for item in items:\n",
    "            seqlength_list.append(len(item.split(\" \")))\n",
    "            if len(item.split(\" \")) >  max_root_len: \n",
    "                max_root_len = len(item.split(\" \"))\n",
    "    return max_root_len, seqlength_list\n",
    "\n",
    "def plot_hist(seqlength_list): \n",
    "    plt.figure(figsize=(20,10))\n",
    "    number_of_files = np.array(seqlength_list)\n",
    "    bincount = np.bincount(seqlength_list)\n",
    "    x = np.arange(1, len(bincount)+1)\n",
    "    n, bins, patches = plt.hist(seqlength_list,x)\n",
    "\n",
    "max_seqlength, sequence_list = get_seqlength(training_data)\n",
    "plot_hist(sequence_list)\n",
    "    \n",
    "# for keys, vals in dic.items(): \n",
    "#     print(keys, vals)\n",
    "  \n"
   ]
  },
  {
   "cell_type": "code",
   "execution_count": null,
   "metadata": {},
   "outputs": [],
   "source": []
  }
 ],
 "metadata": {
  "kernelspec": {
   "display_name": "Python 3",
   "language": "python",
   "name": "python3"
  },
  "language_info": {
   "codemirror_mode": {
    "name": "ipython",
    "version": 3
   },
   "file_extension": ".py",
   "mimetype": "text/x-python",
   "name": "python",
   "nbconvert_exporter": "python",
   "pygments_lexer": "ipython3",
   "version": "3.6.8"
  }
 },
 "nbformat": 4,
 "nbformat_minor": 2
}

{
 "cells": [
  {
   "cell_type": "code",
   "execution_count": 19,
   "metadata": {},
   "outputs": [],
   "source": [
    "import pandas as pd \n",
    "import os \n",
    "import json \n",
    "import re \n",
    "from tagging_util import Tagger "
   ]
  },
  {
   "cell_type": "code",
   "execution_count": 20,
   "metadata": {},
   "outputs": [],
   "source": [
    "df = pd.read_csv(\"Final_Label_10000.csv\")"
   ]
  },
  {
   "cell_type": "code",
   "execution_count": 21,
   "metadata": {},
   "outputs": [],
   "source": [
    "tagger = Tagger()"
   ]
  },
  {
   "cell_type": "code",
   "execution_count": 50,
   "metadata": {},
   "outputs": [
    {
     "name": "stdout",
     "output_type": "stream",
     "text": [
      "42\n",
      "a193709b785373576ab72de4469630b59d985eb5\n",
      "https://github.com/apache/httpcore/commit/a193709b785373576ab72de4469630b59d985eb5\n"
     ]
    }
   ],
   "source": [
    "link = tagger.get_commit(df, \"Bug fix\", 1, \"kc\")\n",
    "shh = link.split(\"/\")[-1]\n",
    "check = df.index[df[\"check\"] == \"c\"].tolist()\n",
    "print(len(check))\n",
    "print(shh)\n",
    "print(link)"
   ]
  },
  {
   "cell_type": "code",
   "execution_count": 51,
   "metadata": {},
   "outputs": [
    {
     "name": "stdout",
     "output_type": "stream",
     "text": [
      "testing\n",
      "Bug fix\n",
      "Clean up\n"
     ]
    }
   ],
   "source": [
    "tagger.getlabels(df, shh)"
   ]
  },
  {
   "cell_type": "code",
   "execution_count": 53,
   "metadata": {},
   "outputs": [
    {
     "name": "stdout",
     "output_type": "stream",
     "text": [
      "testing\n",
      "Feature Add\n"
     ]
    }
   ],
   "source": [
    "df = tagger.label(df, \"Documentation\", shh, 0)\n",
    "df = tagger.label(df, \"Bug fix\", shh, 0)\n",
    "df = tagger.label(df, \"maintenance\", shh, 0)\n",
    "df = tagger.label(df, \"Feature Add\", shh, 1)\n",
    "df = tagger.label(df, \"Clean up\", shh, 0)\n",
    "df = tagger.label(df, \"Source Control\", shh, 0)\n",
    "tagger.getlabels(df, shh)\n",
    "df = tagger.check(df, shh)"
   ]
  },
  {
   "cell_type": "code",
   "execution_count": 54,
   "metadata": {},
   "outputs": [],
   "source": [
    "tagger.writing_to_csv(df, \"Final_Label_10000.csv\")"
   ]
  },
  {
   "cell_type": "code",
   "execution_count": null,
   "metadata": {},
   "outputs": [],
   "source": []
  }
 ],
 "metadata": {
  "kernelspec": {
   "display_name": "Python 3",
   "language": "python",
   "name": "python3"
  },
  "language_info": {
   "codemirror_mode": {
    "name": "ipython",
    "version": 3
   },
   "file_extension": ".py",
   "mimetype": "text/x-python",
   "name": "python",
   "nbconvert_exporter": "python",
   "pygments_lexer": "ipython3",
   "version": "3.6.8"
  }
 },
 "nbformat": 4,
 "nbformat_minor": 2
}

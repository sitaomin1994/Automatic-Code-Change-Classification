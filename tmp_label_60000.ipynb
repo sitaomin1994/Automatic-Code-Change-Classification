{
 "cells": [
  {
   "cell_type": "code",
   "execution_count": 20,
   "metadata": {
    "ExecuteTime": {
     "end_time": "2019-07-26T23:33:55.163756Z",
     "start_time": "2019-07-26T23:33:54.816930Z"
    }
   },
   "outputs": [],
   "source": [
    "import pandas as pd \n",
    "import os \n",
    "import numpy\n",
    "import json \n",
    "from tagging_util import Tagger \n",
    "import six"
   ]
  },
  {
   "cell_type": "code",
   "execution_count": 21,
   "metadata": {
    "ExecuteTime": {
     "end_time": "2019-07-26T23:33:55.172208Z",
     "start_time": "2019-07-26T23:33:55.165423Z"
    }
   },
   "outputs": [],
   "source": [
    "# training_commit_samples.csv, bug_doc_clean.json "
   ]
  },
  {
   "cell_type": "markdown",
   "metadata": {},
   "source": [
    "# Tagging"
   ]
  },
  {
   "cell_type": "code",
   "execution_count": 22,
   "metadata": {},
   "outputs": [
    {
     "name": "stdout",
     "output_type": "stream",
     "text": [
      "(61745, 13)\n"
     ]
    }
   ],
   "source": [
    "df = pd.read_csv(\"training_cmt_preprocessed_final.csv\")\n",
    "print(df.shape)"
   ]
  },
  {
   "cell_type": "code",
   "execution_count": 23,
   "metadata": {},
   "outputs": [
    {
     "name": "stdout",
     "output_type": "stream",
     "text": [
      "Bug fix\n",
      "Documentation\n",
      "Clean up\n"
     ]
    }
   ],
   "source": [
    "with open(\"bug_doc_clean.json\", \"r\") as f: \n",
    "    bug_doc_clean = json.load(f)\n",
    "\n",
    "for k in bug_doc_clean.keys(): \n",
    "    print(k)"
   ]
  },
  {
   "cell_type": "code",
   "execution_count": 24,
   "metadata": {},
   "outputs": [
    {
     "name": "stdout",
     "output_type": "stream",
     "text": [
      "['Bug fix', 'Documentation', 'Clean up']\n"
     ]
    }
   ],
   "source": [
    "prelabel_bug_doc_clean = list(bug_doc_clean.keys())\n",
    "print(prelabel_bug_doc_clean)"
   ]
  },
  {
   "cell_type": "code",
   "execution_count": 25,
   "metadata": {},
   "outputs": [],
   "source": [
    "tagger = Tagger()\n",
    "# df = tagger.prelabeling(df, \"bug_doc_clean.json\", prelabel_bug_doc_clean)"
   ]
  },
  {
   "cell_type": "code",
   "execution_count": 26,
   "metadata": {},
   "outputs": [
    {
     "name": "stdout",
     "output_type": "stream",
     "text": [
      "2517\n"
     ]
    }
   ],
   "source": [
    "bugfix = df.index[df[\"Bug fix\"] == 1].tolist()\n",
    "print(len(bugfix))"
   ]
  },
  {
   "cell_type": "code",
   "execution_count": 27,
   "metadata": {},
   "outputs": [
    {
     "name": "stdout",
     "output_type": "stream",
     "text": [
      "https://github.com/apache/avro/commit/37ce7f72478fcd3dd15637efe25b422f9631bacc\n"
     ]
    }
   ],
   "source": [
    "link = tagger.get_commit(df, \"Bug fix\", 1)\n",
    "print(link)"
   ]
  },
  {
   "cell_type": "code",
   "execution_count": 9,
   "metadata": {},
   "outputs": [
    {
     "name": "stdout",
     "output_type": "stream",
     "text": [
      "testing\n",
      "Bug fix\n",
      "Documentation\n"
     ]
    }
   ],
   "source": [
    "tagger.getlabels(df, \"289ea57aa60c151f4fd2eb59c73b8d81c141d2b8\")"
   ]
  },
  {
   "cell_type": "code",
   "execution_count": 10,
   "metadata": {},
   "outputs": [
    {
     "name": "stdout",
     "output_type": "stream",
     "text": [
      "testing\n",
      "Bug fix\n"
     ]
    }
   ],
   "source": [
    "df = tagger.label(df, \"Documentation\", \"289ea57aa60c151f4fd2eb59c73b8d81c141d2b8\", 0)\n",
    "tagger.getlabels(df, \"289ea57aa60c151f4fd2eb59c73b8d81c141d2b8\")\n",
    "df = tagger.check(df, \"289ea57aa60c151f4fd2eb59c73b8d81c141d2b8\")"
   ]
  },
  {
   "cell_type": "code",
   "execution_count": 19,
   "metadata": {},
   "outputs": [],
   "source": [
    "tagger.writing_to_csv(df, \"training_cmt_preprocessed_final.csv\")"
   ]
  },
  {
   "cell_type": "code",
   "execution_count": null,
   "metadata": {},
   "outputs": [],
   "source": []
  }
 ],
 "metadata": {
  "kernelspec": {
   "display_name": "Python 3",
   "language": "python",
   "name": "python3"
  },
  "language_info": {
   "codemirror_mode": {
    "name": "ipython",
    "version": 3
   },
   "file_extension": ".py",
   "mimetype": "text/x-python",
   "name": "python",
   "nbconvert_exporter": "python",
   "pygments_lexer": "ipython3",
   "version": "3.6.8"
  },
  "latex_envs": {
   "LaTeX_envs_menu_present": true,
   "autoclose": false,
   "autocomplete": true,
   "bibliofile": "biblio.bib",
   "cite_by": "apalike",
   "current_citInitial": 1,
   "eqLabelWithNumbers": true,
   "eqNumInitial": 1,
   "hotkeys": {
    "equation": "Ctrl-E",
    "itemize": "Ctrl-I"
   },
   "labels_anchors": false,
   "latex_user_defs": false,
   "report_style_numbering": false,
   "user_envs_cfg": false
  },
  "toc": {
   "base_numbering": 1,
   "nav_menu": {},
   "number_sections": true,
   "sideBar": true,
   "skip_h1_title": false,
   "title_cell": "Table of Contents",
   "title_sidebar": "Contents",
   "toc_cell": false,
   "toc_position": {},
   "toc_section_display": true,
   "toc_window_display": false
  }
 },
 "nbformat": 4,
 "nbformat_minor": 2
}

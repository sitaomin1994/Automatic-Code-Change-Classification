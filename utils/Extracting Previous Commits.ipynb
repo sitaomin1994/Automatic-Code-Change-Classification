{
 "cells": [
  {
   "cell_type": "code",
   "execution_count": 101,
   "metadata": {},
   "outputs": [],
   "source": [
    "import requests\n",
    "import re\n",
    "import os\n",
    "from os import path"
   ]
  },
  {
   "cell_type": "code",
   "execution_count": 62,
   "metadata": {},
   "outputs": [],
   "source": [
    "url = \"https://api.github.com/repos/Netflix/Hystrix/commits/00485dd245317622d8eb24fd5e48327aefae9f9b\"\n",
    "csha = '00485dd245317622d8eb24fd5e48327aefae9f9b'"
   ]
  },
  {
   "cell_type": "code",
   "execution_count": 6,
   "metadata": {},
   "outputs": [
    {
     "name": "stdout",
     "output_type": "stream",
     "text": [
      "b'{\"sha\":\"00485dd245317622d8eb24fd5e48327aefae9f9b\",\"node_id\":\"MDY6Q29tbWl0Njc2NjU1ODowMDQ4NWRkMjQ1MzE3NjIyZDhlYjI0ZmQ1ZTQ4MzI3YWVmYWU5Zjli\",\"commit\":{\"author\":{\"name\":\"Matt Jacobs\",\"email\":\"mjacobs@netflix.com\",\"date\":\"2015-02-23T20:12:24Z\"},\"committer\":{\"name\":\"Matt Jacobs\",\"email\":\"mjacobs@netflix.com\",\"date\":\"2015-02-23T20:12:24Z\"},\"message\":\"Make HystrixCommandProperties backwards-compatible for classes which extend it\",\"tree\":{\"sha\":\"f222acafe563b842edcac894aecd26d9674763b4\",\"url\":\"https://api.github.com/repos/Netflix/Hystrix/git/trees/f222acafe563b842edcac894aecd26d9674763b4\"},\"url\":\"https://api.github.com/repos/Netflix/Hystrix/git/commits/00485dd245317622d8eb24fd5e48327aefae9f9b\",\"comment_count\":0,\"verification\":{\"verified\":false,\"reason\":\"unsigned\",\"signature\":null,\"payload\":null}},\"url\":\"https://api.github.com/repos/Netflix/Hystrix/commits/00485dd245317622d8eb24fd5e48327aefae9f9b\",\"html_url\":\"https://github.com/Netflix/Hystrix/commit/00485dd245317622d8eb24fd5e48327aefae9f9b\",\"comments_url\":\"https://api.github.com/repos/Netflix/Hystrix/commits/00485dd245317622d8eb24fd5e48327aefae9f9b/comments\",\"author\":null,\"committer\":null,\"parents\":[{\"sha\":\"ef5c1de763e7876bec0f605794fd6195574e5009\",\"url\":\"https://api.github.com/repos/Netflix/Hystrix/commits/ef5c1de763e7876bec0f605794fd6195574e5009\",\"html_url\":\"https://github.com/Netflix/Hystrix/commit/ef5c1de763e7876bec0f605794fd6195574e5009\"}],\"stats\":{\"total\":7,\"additions\":6,\"deletions\":1},\"files\":[{\"sha\":\"168622a19fb71cbaaa92b647d6c301b321fe7e28\",\"filename\":\"hystrix-core/src/main/java/com/netflix/hystrix/HystrixCommandProperties.java\",\"status\":\"modified\",\"additions\":6,\"deletions\":1,\"changes\":7,\"blob_url\":\"https://github.com/Netflix/Hystrix/blob/00485dd245317622d8eb24fd5e48327aefae9f9b/hystrix-core/src/main/java/com/netflix/hystrix/HystrixCommandProperties.java\",\"raw_url\":\"https://github.com/Netflix/Hystrix/raw/00485dd245317622d8eb24fd5e48327aefae9f9b/hystrix-core/src/main/java/com/netflix/hystrix/HystrixCommandProperties.java\",\"contents_url\":\"https://api.github.com/repos/Netflix/Hystrix/contents/hystrix-core/src/main/java/com/netflix/hystrix/HystrixCommandProperties.java?ref=00485dd245317622d8eb24fd5e48327aefae9f9b\",\"patch\":\"@@ -273,7 +273,12 @@ protected HystrixCommandProperties(HystrixCommandKey key, HystrixCommandProperti\\\\n      * @return {@code HystrixProperty<Integer>}\\\\n      */\\\\n     public HystrixProperty<Integer> executionTimeoutInMilliseconds() {\\\\n-        return executionTimeoutInMilliseconds;\\\\n+        /**\\\\n+         * Calling a deprecated method here is a temporary workaround.  We do this because {@link #executionTimeoutInMilliseconds()} is a new method (as of 1.4.0-rc.7) and an extending\\\\n+         * class will not have this method.  It will have {@link #executionIsolationThreadTimeoutInMilliseconds()}, however.\\\\n+         * So, to stay compatible with an extension, we perform this redirect.\\\\n+         */\\\\n+        return executionIsolationThreadTimeoutInMilliseconds();\\\\n     }\\\\n     \\\\n     /**\"}]}'\n"
     ]
    }
   ],
   "source": [
    "r = requests.get(url)\n",
    "print(r.content)"
   ]
  },
  {
   "cell_type": "code",
   "execution_count": 8,
   "metadata": {},
   "outputs": [
    {
     "data": {
      "text/plain": [
       "dict"
      ]
     },
     "execution_count": 8,
     "metadata": {},
     "output_type": "execute_result"
    }
   ],
   "source": [
    "result = r.json()"
   ]
  },
  {
   "cell_type": "code",
   "execution_count": 70,
   "metadata": {},
   "outputs": [
    {
     "name": "stdout",
     "output_type": "stream",
     "text": [
      "2015-02-23T20:12:24Z\n"
     ]
    }
   ],
   "source": [
    "# get time\n",
    "commit_time = result['commit']['committer']['date']\n",
    "print(commit_time)"
   ]
  },
  {
   "cell_type": "code",
   "execution_count": 60,
   "metadata": {},
   "outputs": [],
   "source": [
    "def get_java_url(file_paths):\n",
    "    \n",
    "    java_check = r\"\\.java$\"\n",
    "    \n",
    "    file_urls = []\n",
    "    \n",
    "    for index, item in enumerate(file_paths):\n",
    "        file_url = item['raw_url']    \n",
    "        print(index, file_url)\n",
    "        print(re.match(r\"^.*\\.java$\", str(file_url)))\n",
    "        if re.match(r\"^.*\\.java$\", str(file_url)):\n",
    "            file_urls.append(file_url)\n",
    "    \n",
    "    return file_urls"
   ]
  },
  {
   "cell_type": "code",
   "execution_count": 61,
   "metadata": {},
   "outputs": [
    {
     "name": "stdout",
     "output_type": "stream",
     "text": [
      "<class 'list'>\n",
      "0 https://github.com/Netflix/Hystrix/raw/00485dd245317622d8eb24fd5e48327aefae9f9b/hystrix-core/src/main/java/com/netflix/hystrix/HystrixCommandProperties.java\n",
      "<_sre.SRE_Match object; span=(0, 156), match='https://github.com/Netflix/Hystrix/raw/00485dd245>\n",
      "['https://github.com/Netflix/Hystrix/raw/00485dd245317622d8eb24fd5e48327aefae9f9b/hystrix-core/src/main/java/com/netflix/hystrix/HystrixCommandProperties.java']\n"
     ]
    }
   ],
   "source": [
    "# get file path\n",
    "file_paths = result['files']\n",
    "print(type(file_paths))\n",
    "\n",
    "file_urls = get_java_url(file_paths)\n",
    "\n",
    "print(file_urls)"
   ]
  },
  {
   "cell_type": "code",
   "execution_count": 69,
   "metadata": {},
   "outputs": [
    {
     "name": "stdout",
     "output_type": "stream",
     "text": [
      "/hystrix-core/src/main/java/com/netflix/hystrix/HystrixCommandProperties.java\n",
      "/hystrix-core/src/main/java/com/netflix/hystrix/HystrixCommandProperties.java\n"
     ]
    }
   ],
   "source": [
    "def get_path(file_url):\n",
    "    path_re = ''\n",
    "    result  = re.search(r'^.*' + csha + '(.*java$)', file_url)\n",
    "    print(result.group(1))\n",
    "    return result.group(1)\n",
    "\n",
    "print(get_path(file_urls[0]))"
   ]
  },
  {
   "cell_type": "code",
   "execution_count": 85,
   "metadata": {},
   "outputs": [
    {
     "name": "stdout",
     "output_type": "stream",
     "text": [
      "/hystrix-core/src/main/java/com/netflix/hystrix/HystrixCommandProperties.java\n",
      "727cbebe11f5ab86bdc6312e070f03122f27a638\n"
     ]
    }
   ],
   "source": [
    "def get_previous_commit(time, file_url):\n",
    "    \n",
    "    path = get_path(file_url)\n",
    "    \n",
    "    url = 'https://api.github.com/repos/Netflix/Hystrix/commits?path='+path+'&until='+time\n",
    "    \n",
    "    req = requests.get(url)\n",
    "    \n",
    "    result = req.json()\n",
    "    commit_id = result[1]['sha']\n",
    "    print(commit_id)\n",
    "    \n",
    "    return commit_id\n",
    "\n",
    "commit_id = get_previous_commit(commit_time, file_urls[0])"
   ]
  },
  {
   "cell_type": "code",
   "execution_count": 109,
   "metadata": {},
   "outputs": [
    {
     "name": "stdout",
     "output_type": "stream",
     "text": [
      "727cbebe11f5ab86bdc6312e070f03122f27a638\n"
     ]
    }
   ],
   "source": [
    "print(commit_id)"
   ]
  },
  {
   "cell_type": "code",
   "execution_count": 115,
   "metadata": {},
   "outputs": [
    {
     "name": "stdout",
     "output_type": "stream",
     "text": [
      "https://api.github.com/repos/Netflix/Hystrix/commits/727cbebe11f5ab86bdc6312e070f03122f27a638\n",
      "/hystrix-core/src/main/java/com/netflix/hystrix/HystrixCommandProperties.java\n",
      "https://github.com/Netflix/Hystrix/raw/727cbebe11f5ab86bdc6312e070f03122f27a638/hystrix-core/src/main/java/com/netflix/hystrix/HystrixCommandProperties.java\n"
     ]
    }
   ],
   "source": [
    "def get_prev_url(commit_id, file_url):\n",
    "    previous_url = \"https://api.github.com/repos/Netflix/Hystrix/commits/\" + commit_id\n",
    "    print(previous_url)\n",
    "\n",
    "    req = requests.get(previous_url)\n",
    "    prev_filename = get_path(file_url)\n",
    "    prev_filename = prev_filename.split('/', 1)[1]\n",
    "\n",
    "    for item in req.json()['files']:\n",
    "        # print(item['filename'])\n",
    "        if item['filename'] == prev_filename:\n",
    "            prev_file_url = item['raw_url']\n",
    "            # print(prev_file_url)\n",
    "    \n",
    "    return prev_file_url\n",
    "\n",
    "prev_url = get_prev_url(commit_id, file_urls[0])\n",
    "print(prev_url)"
   ]
  },
  {
   "cell_type": "code",
   "execution_count": 96,
   "metadata": {},
   "outputs": [
    {
     "name": "stdout",
     "output_type": "stream",
     "text": [
      "/hystrix-core/src/main/java/com/netflix/hystrix/HystrixCommandProperties.java\n",
      "HystrixCommandProperties.java\n"
     ]
    }
   ],
   "source": [
    "filename = get_path(file_urls[0]).split('/')[-1]\n",
    "print(filename)"
   ]
  },
  {
   "cell_type": "code",
   "execution_count": 103,
   "metadata": {},
   "outputs": [
    {
     "name": "stdout",
     "output_type": "stream",
     "text": [
      "/Users/apple/min/Research Project/Software commit/Automatic Classification\n",
      "/Users/apple/min/Research Project/Software commit/Automatic Classification/HystrixCommandPropertiesprev.java\n"
     ]
    }
   ],
   "source": [
    "pwd = os.getcwd()\n",
    "print(pwd)\n",
    "\n",
    "prev_dir = pwd + '/' + filename.split('.')[0] + 'prev.java'\n"
   ]
  },
  {
   "cell_type": "code",
   "execution_count": 116,
   "metadata": {},
   "outputs": [
    {
     "name": "stdout",
     "output_type": "stream",
     "text": [
      "https://github.com/Netflix/Hystrix/raw/727cbebe11f5ab86bdc6312e070f03122f27a638/hystrix-core/src/main/java/com/netflix/hystrix/HystrixCommandProperties.java\n"
     ]
    }
   ],
   "source": [
    "print(prev_url)"
   ]
  },
  {
   "cell_type": "code",
   "execution_count": 117,
   "metadata": {},
   "outputs": [],
   "source": [
    "pwd = os.getcwd()\n",
    "\n",
    "prev_dir = pwd + '/' + filename.split('.')[0] + 'prev.java'\n",
    "curr_dir = pwd + '/' + filename.split('.')[0] + 'curr.java'\n",
    "\n",
    "if not path.exists(prev_dir):\n",
    "    with open(filename.split('.')[0] + 'prev.java','wb') as f:\n",
    "        req = requests.get(prev_url)\n",
    "        f.write(req.content)\n",
    "\n",
    "if not path.exists(curr_dir):\n",
    "    with open(filename.split('.')[0] + 'curr.java','wb') as f:\n",
    "        req = requests.get(file_urls[0])\n",
    "        f.write(req.content)"
   ]
  },
  {
   "cell_type": "code",
   "execution_count": 126,
   "metadata": {},
   "outputs": [
    {
     "name": "stdout",
     "output_type": "stream",
     "text": [
      "b'New cluster:\\nINS MethodInvocation to ReturnStatement at 0\\n------------\\nINS MethodInvocation to ReturnStatement at 0\\nINS SimpleName: executionIsolationThreadTimeoutInMilliseconds to MethodInvocation at 0\\n\\nNew cluster:\\nDEL SimpleName: executionTimeoutInMilliseconds\\n------------\\nDEL SimpleName: executionTimeoutInMilliseconds\\n\\n'\n"
     ]
    }
   ],
   "source": [
    "import subprocess\n",
    "\n",
    "pre_filename = filename.split('.')[0] + 'prev.java'\n",
    "curr_filename = filename.split('.')[0] + 'curr.java'\n",
    "\n",
    "cmd = ['gumtree', 'cluster', pre_filename, curr_filename]\n",
    "\n",
    "output = subprocess.Popen(cmd, stdout=subprocess.PIPE ).communicate()[0]\n",
    "\n",
    "print(output)\n",
    "\n",
    "with open('output.txt','wb') as f:\n",
    "    f.write(output)"
   ]
  }
 ],
 "metadata": {
  "kernelspec": {
   "display_name": "Python 3",
   "language": "python",
   "name": "python3"
  },
  "language_info": {
   "codemirror_mode": {
    "name": "ipython",
    "version": 3
   },
   "file_extension": ".py",
   "mimetype": "text/x-python",
   "name": "python",
   "nbconvert_exporter": "python",
   "pygments_lexer": "ipython3",
   "version": "3.6.5"
  }
 },
 "nbformat": 4,
 "nbformat_minor": 2
}

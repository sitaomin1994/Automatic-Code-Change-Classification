{
 "cells": [
  {
   "cell_type": "code",
   "execution_count": 58,
   "metadata": {},
   "outputs": [],
   "source": [
    "import os\n",
    "import pandas as pd\n",
    "import numpy as np\n",
    "from os import listdir\n",
    "from os import path\n",
    "import json\n",
    "import matplotlib.pyplot as plt\n",
    "import re\n",
    "% matplotlib inline"
   ]
  },
  {
   "cell_type": "code",
   "execution_count": 76,
   "metadata": {},
   "outputs": [],
   "source": [
    "# parse json to files and actions\n",
    "\n",
    "def parse_json(filepath_list):\n",
    "    '''\n",
    "    function used to parse json of each commit json file\n",
    "    \n",
    "    Args:\n",
    "        filepath_list - list of filepaths\n",
    "    \n",
    "    Returns:\n",
    "        files_json - list object contains parsed information\n",
    "    \n",
    "    '''\n",
    "    number_of_files = []\n",
    "    files_json = []\n",
    "    \n",
    "    # each commits\n",
    "    for path in filepath_list:\n",
    "        with open(path,'rb') as f:\n",
    "            data = json.load(f)\n",
    "            files_list = []\n",
    "            # each file in commits\n",
    "            for file in data['files']:\n",
    "                # parse only cluster file\n",
    "                for key in file.keys():\n",
    "                    if re.match('^.*_cluster$',key):\n",
    "                        actions_list = []\n",
    "                        actions = file[key]['actions']\n",
    "                        # each action in file\n",
    "                        for action in actions:\n",
    "                            actions_list.append(action['root'])\n",
    "                        files_list.append(actions_list)\n",
    "        \n",
    "        files_json.append(files_list)        \n",
    "    \n",
    "    # return\n",
    "    return files_json\n",
    "\n",
    "# get file path list\n",
    "filepath_list = ['tmp_JSON_labeled_commits/' + path for path in listdir('tmp_JSON_labeled_commits/')]\n",
    "files_json = parse_json(filepath_list)"
   ]
  },
  {
   "cell_type": "code",
   "execution_count": 77,
   "metadata": {},
   "outputs": [
    {
     "name": "stdout",
     "output_type": "stream",
     "text": [
      "22\n"
     ]
    }
   ],
   "source": [
    "# getting file threshold\n",
    "threshold = 0.95\n",
    "number_of_files = [len(files) for files in files_json]\n",
    "\n",
    "def get_file_threshold(number_of_files, threshold = 0.95):\n",
    "    '''\n",
    "    get padding threshold for files dimension\n",
    "    \n",
    "    Args:\n",
    "        number_of_files - array of the number of files in each commits\n",
    "        threshold - drop all commits with its the number of files beyond this threshold\n",
    "    Returns:\n",
    "        padding threshold - number\n",
    "    '''\n",
    "    \n",
    "    total_files = len(number_of_files)\n",
    "    number_of_files = np.array(number_of_files)\n",
    "    bincount = np.bincount(number_of_files)\n",
    "\n",
    "    sum_file = 0\n",
    "    for index, item in enumerate(bincount):\n",
    "        sum_file += item\n",
    "        #print(index,item)\n",
    "        #print(sum_file)\n",
    "        if sum_file > threshold*total_files:\n",
    "            padding_files_threshold = index\n",
    "            break\n",
    "            \n",
    "    return padding_files_threshold\n",
    "\n",
    "file_threshold = get_file_threshold(number_of_files, threshold)\n",
    "print(file_threshold)"
   ]
  },
  {
   "cell_type": "raw",
   "metadata": {},
   "source": [
    "plt.figure(figsize=(20,20))\n",
    "\n",
    "number_of_files = np.array(number_of_files)\n",
    "\n",
    "bincount = np.bincount(number_of_files)\n",
    "\n",
    "x = np.arange(1, len((bincount))+1)\n",
    "\n",
    "n, bins, patches = plt.hist(number_of_files,x)"
   ]
  }
 ],
 "metadata": {
  "kernelspec": {
   "display_name": "Python 3",
   "language": "python",
   "name": "python3"
  },
  "language_info": {
   "codemirror_mode": {
    "name": "ipython",
    "version": 3
   },
   "file_extension": ".py",
   "mimetype": "text/x-python",
   "name": "python",
   "nbconvert_exporter": "python",
   "pygments_lexer": "ipython3",
   "version": "3.6.5"
  }
 },
 "nbformat": 4,
 "nbformat_minor": 2
}

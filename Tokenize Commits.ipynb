{
 "cells": [
  {
   "cell_type": "code",
   "execution_count": null,
   "metadata": {
    "ExecuteTime": {
     "end_time": "2019-07-12T21:04:39.790307Z",
     "start_time": "2019-07-12T21:04:39.369201Z"
    }
   },
   "outputs": [],
   "source": [
    "import os\n",
    "import pandas as pd\n",
    "import numpy as np\n",
    "from os import listdir\n",
    "from os import path\n",
    "import json\n",
    "import matplotlib.pyplot as plt\n",
    "import re\n",
    "# % matplotlib inline"
   ]
  },
  {
   "cell_type": "markdown",
   "metadata": {},
   "source": [
    "#  file threshold"
   ]
  },
  {
   "cell_type": "code",
   "execution_count": null,
   "metadata": {
    "ExecuteTime": {
     "end_time": "2019-07-12T21:04:40.310126Z",
     "start_time": "2019-07-12T21:04:39.792367Z"
    }
   },
   "outputs": [],
   "source": [
    "# parse json to files and actions\n",
    "\n",
    "def parse_json(filepath_list):\n",
    "    '''\n",
    "    function used to parse json of each commit json file\n",
    "    \n",
    "    Args:\n",
    "        filepath_list - list of filepaths\n",
    "    \n",
    "    Returns:\n",
    "        files_json - list object contains parsed information\n",
    "    \n",
    "    '''\n",
    "    number_of_files = []\n",
    "    files_json = []\n",
    "    \n",
    "    # each commits\n",
    "    for path in filepath_list:\n",
    "        with open(path,'rb') as f:\n",
    "            data = json.load(f)\n",
    "            files_list = []\n",
    "            # each file in commits\n",
    "            for file in data['files']:\n",
    "                # parse only cluster file\n",
    "                for key in file.keys():\n",
    "                    if re.match('^.*_cluster$',key):\n",
    "                        actions_list = []\n",
    "                        actions = file[key]['actions']\n",
    "                        # each action in file\n",
    "                        for action in actions:\n",
    "                            actions_list.append(action['root'])\n",
    "                        files_list.append(actions_list)\n",
    "        \n",
    "        files_json.append(files_list)        \n",
    "    \n",
    "    # return\n",
    "    return files_json\n",
    "\n",
    "# get file path list\n",
    "filepath_list = ['../data/tmp_JSON_labeled_commits/' + path for path in listdir('../data/tmp_JSON_labeled_commits/')]\n",
    "files_json = parse_json(filepath_list)"
   ]
  },
  {
   "cell_type": "code",
   "execution_count": null,
   "metadata": {
    "ExecuteTime": {
     "end_time": "2019-07-12T21:04:40.319783Z",
     "start_time": "2019-07-12T21:04:40.312411Z"
    }
   },
   "outputs": [],
   "source": [
    "# getting file threshold\n",
    "threshold = 0.95\n",
    "number_of_files = [len(files) for files in files_json]\n",
    "\n",
    "def get_file_threshold(number_of_files, threshold = 0.95):\n",
    "    '''\n",
    "    get padding threshold for files dimension\n",
    "    \n",
    "    Args:\n",
    "        number_of_files - array of the number of files in each commits\n",
    "        threshold - drop all commits with its the number of files beyond this threshold\n",
    "    Returns:\n",
    "        padding threshold - number\n",
    "    '''\n",
    "    \n",
    "    total_files = len(number_of_files)\n",
    "    number_of_files = np.array(number_of_files)\n",
    "    bincount = np.bincount(number_of_files)\n",
    "\n",
    "    sum_file = 0\n",
    "    for index, item in enumerate(bincount):\n",
    "        sum_file += item\n",
    "        #print(index,item)\n",
    "        #print(sum_file)\n",
    "        if sum_file > threshold*total_files:\n",
    "            padding_files_threshold = index\n",
    "            break\n",
    "            \n",
    "    return padding_files_threshold\n",
    "\n",
    "file_threshold = get_file_threshold(number_of_files, threshold)\n",
    "print(file_threshold)"
   ]
  },
  {
   "cell_type": "raw",
   "metadata": {},
   "source": [
    "plt.figure(figsize=(20,20))\n",
    "\n",
    "number_of_files = np.array(number_of_files)\n",
    "\n",
    "bincount = np.bincount(number_of_files)\n",
    "\n",
    "x = np.arange(1, len((bincount))+1)\n",
    "\n",
    "n, bins, patches = plt.hist(number_of_files,x)"
   ]
  },
  {
   "cell_type": "markdown",
   "metadata": {},
   "source": [
    "# root_threshold"
   ]
  },
  {
   "cell_type": "code",
   "execution_count": null,
   "metadata": {
    "ExecuteTime": {
     "end_time": "2019-07-12T21:04:40.328595Z",
     "start_time": "2019-07-12T21:04:40.322177Z"
    }
   },
   "outputs": [],
   "source": [
    "threshold = 0.95\n",
    "number_of_root = []\n",
    "root_count = []\n",
    "for files in files_json:\n",
    "    number_of_root.extend([len(roots) for roots in files])\n",
    "    root_count.append([len(roots) for roots in files])"
   ]
  },
  {
   "cell_type": "code",
   "execution_count": null,
   "metadata": {
    "ExecuteTime": {
     "end_time": "2019-07-12T21:04:40.338759Z",
     "start_time": "2019-07-12T21:04:40.331442Z"
    }
   },
   "outputs": [],
   "source": [
    "# getting file threshold\n",
    "\n",
    "def get_root_threshold(number_of_root, threshold = 0.95):\n",
    "    '''\n",
    "    get padding threshold for root dimension\n",
    "    \n",
    "    Args:\n",
    "        number_of_root - array of the number of root in each commits\n",
    "        threshold - drop all commits with its the number of roots beyond this threshold\n",
    "    Returns:\n",
    "        padding threshold - number\n",
    "    '''\n",
    "    \n",
    "    total_root = len(number_of_root)\n",
    "    number_of_root = np.array(number_of_root)\n",
    "    bincount = np.bincount(number_of_root)\n",
    "\n",
    "    sum_root = 0\n",
    "    for index, item in enumerate(bincount):\n",
    "        sum_root += item\n",
    "        #print(index,item)\n",
    "        #print(sum_file)\n",
    "        if sum_root > threshold*total_root:\n",
    "            padding_root_threshold = index\n",
    "            break\n",
    "            \n",
    "    return padding_root_threshold\n",
    "\n",
    "root_threshold = get_root_threshold(number_of_root, threshold)\n",
    "print(root_threshold)"
   ]
  },
  {
   "cell_type": "markdown",
   "metadata": {},
   "source": [
    "# select files which comply with the standard  \n",
    "[roots number $\\le$ 38, files number $\\le$ 22]"
   ]
  },
  {
   "cell_type": "code",
   "execution_count": null,
   "metadata": {
    "ExecuteTime": {
     "end_time": "2019-07-12T21:04:40.346397Z",
     "start_time": "2019-07-12T21:04:40.340236Z"
    }
   },
   "outputs": [],
   "source": [
    "cmt_used = [] # index of commits which comply with the standard.\n",
    "i = 0\n",
    "for counts in root_count:\n",
    "    if (number_of_files[i]<=22) and (False not in [items <=38 for items in counts]):\n",
    "        cmt_used.append(i)\n",
    "    i += 1\n"
   ]
  },
  {
   "cell_type": "code",
   "execution_count": null,
   "metadata": {
    "ExecuteTime": {
     "end_time": "2019-07-12T21:04:40.361251Z",
     "start_time": "2019-07-12T21:04:40.348139Z"
    }
   },
   "outputs": [],
   "source": [
    "cmt_used"
   ]
  },
  {
   "cell_type": "code",
   "execution_count": null,
   "metadata": {
    "ExecuteTime": {
     "end_time": "2019-07-12T21:06:41.101914Z",
     "start_time": "2019-07-12T21:06:41.097731Z"
    }
   },
   "outputs": [],
   "source": [
    "print(\"We will use {} commits while the total number of commits is {}\".format(\n",
    "    len(cmt_used), len(files_json)))"
   ]
  }
 ],
 "metadata": {
  "kernelspec": {
   "display_name": "Python 3",
   "language": "python",
   "name": "python3"
  },
  "language_info": {
   "codemirror_mode": {
    "name": "ipython",
    "version": 3
   },
   "file_extension": ".py",
   "mimetype": "text/x-python",
   "name": "python",
   "nbconvert_exporter": "python",
   "pygments_lexer": "ipython3",
   "version": "3.7.1"
  },
  "latex_envs": {
   "LaTeX_envs_menu_present": true,
   "autoclose": false,
   "autocomplete": true,
   "bibliofile": "biblio.bib",
   "cite_by": "apalike",
   "current_citInitial": 1,
   "eqLabelWithNumbers": true,
   "eqNumInitial": 1,
   "hotkeys": {
    "equation": "Ctrl-E",
    "itemize": "Ctrl-I"
   },
   "labels_anchors": false,
   "latex_user_defs": false,
   "report_style_numbering": false,
   "user_envs_cfg": false
  },
  "toc": {
   "base_numbering": 1,
   "nav_menu": {},
   "number_sections": true,
   "sideBar": true,
   "skip_h1_title": false,
   "title_cell": "Table of Contents",
   "title_sidebar": "Contents",
   "toc_cell": false,
   "toc_position": {},
   "toc_section_display": true,
   "toc_window_display": false
  }
 },
 "nbformat": 4,
 "nbformat_minor": 2
}

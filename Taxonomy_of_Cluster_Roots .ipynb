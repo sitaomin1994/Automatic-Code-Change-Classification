{
 "cells": [
  {
   "cell_type": "code",
   "execution_count": 1,
   "metadata": {},
   "outputs": [],
   "source": [
    "import pandas as pd \n",
    "import os "
   ]
  },
  {
   "cell_type": "code",
   "execution_count": 2,
   "metadata": {},
   "outputs": [],
   "source": [
    "with open(\"UniqueEmbeddings.txt\", encoding=\"utf8\") as f: \n",
    "    lines = f.readlines()"
   ]
  },
  {
   "cell_type": "code",
   "execution_count": 69,
   "metadata": {},
   "outputs": [],
   "source": [
    "actions = dict()\n",
    "for line in lines:\n",
    "    line = line.strip(\"\\n\")\n",
    "    if len(line.split(\"_\", 1)) != 1: \n",
    "        key = line.split(\"_\", 1)[0]\n",
    "        if actions.get(key) is None: \n",
    "            actions[key] = []\n",
    "            actions[key].append(line.split(\"_\", 1)[1])\n",
    "        else: \n",
    "            actions[key].append(line.split(\"_\", 1)[1])\n",
    "    else: \n",
    "        key = line.split(\"_\", 1)[0]\n",
    "        if actions.get(key) is None: \n",
    "            actions[key] = []\n",
    "            actions[key].append(key)\n",
    "        else: \n",
    "            actions[key].append(key)"
   ]
  },
  {
   "cell_type": "code",
   "execution_count": 70,
   "metadata": {},
   "outputs": [
    {
     "name": "stdout",
     "output_type": "stream",
     "text": [
      "UPDATE\n",
      "DEL\n",
      "​\n",
      "MOVE\n",
      "<PAD/>\n",
      "﻿INS\n",
      "INS\n"
     ]
    }
   ],
   "source": [
    "for k in actions.keys(): \n",
    "    print(k)"
   ]
  },
  {
   "cell_type": "code",
   "execution_count": 74,
   "metadata": {},
   "outputs": [
    {
     "name": "stdout",
     "output_type": "stream",
     "text": [
      "UPDATE\n"
     ]
    }
   ],
   "source": [
    "insert_op = actions[\"UPDATE\"]\n",
    "for insert in insert_op: \n",
    "    print(insert)"
   ]
  },
  {
   "cell_type": "code",
   "execution_count": null,
   "metadata": {},
   "outputs": [],
   "source": []
  }
 ],
 "metadata": {
  "kernelspec": {
   "display_name": "Python 3",
   "language": "python",
   "name": "python3"
  },
  "language_info": {
   "codemirror_mode": {
    "name": "ipython",
    "version": 3
   },
   "file_extension": ".py",
   "mimetype": "text/x-python",
   "name": "python",
   "nbconvert_exporter": "python",
   "pygments_lexer": "ipython3",
   "version": "3.5.6"
  }
 },
 "nbformat": 4,
 "nbformat_minor": 2
}

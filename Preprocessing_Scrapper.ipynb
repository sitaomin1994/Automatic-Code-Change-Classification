{
 "cells": [
  {
   "cell_type": "markdown",
   "metadata": {},
   "source": [
    "# TITLE: Preprocessing Scrapper \n",
    "\n",
    "## Information: \n",
    "This file converts commit ID and Project names found in excel file **Neutral_Breaker.xlsx** \n",
    "to urls and scraps the urls for path names with the key words -- **test**, **util**, **build**. \n",
    "It then creates a two pandas data frames neutral and breaker with the columns \n",
    "1. Project_Name \n",
    "2. Commit_ID \n",
    "3. Commit_URL \n",
    "4. Testing -- Binary \n",
    "5. Build -- Binary \n",
    "6. Maintenance -- BInary "
   ]
  },
  {
   "cell_type": "code",
   "execution_count": 25,
   "metadata": {},
   "outputs": [],
   "source": [
    "from urllib.request import urlopen\n",
    "from bs4 import BeautifulSoup\n",
    "from urllib.error import HTTPError\n",
    "from urllib.error import URLError\n",
    "from os import path \n",
    "import os \n",
    "import xlrd\n",
    "import re\n",
    "import pandas as pd"
   ]
  },
  {
   "cell_type": "code",
   "execution_count": 13,
   "metadata": {},
   "outputs": [],
   "source": [
    "def load_data(file_path, sheet_name):\n",
    "    data = pd.read_excel(file_path, sheet_name=sheet_name)\n",
    "    return data"
   ]
  },
  {
   "cell_type": "code",
   "execution_count": 14,
   "metadata": {},
   "outputs": [],
   "source": [
    "def create_url(data):\n",
    "    \"\"\"\n",
    "\n",
    "    :param data: panda data frame\n",
    "    :return: url column created by concatenating 'Project_Name' and 'Commit_ID'\n",
    "    \"\"\"\n",
    "    url_list = []\n",
    "    for ii in range(len(data)):\n",
    "        split_proj_name = data[\"Project_Name\"].loc[ii].split(\"-\", 1)\n",
    "        organization = split_proj_name[0]\n",
    "        project = split_proj_name[1]\n",
    "        url_list.append(\"https://github.com/\" + organization + \"/\" + project + \"/commit/\" +\n",
    "                        str(data[\"Commit_ID\"].loc[ii]))\n",
    "    data[\"Commit_URL\"] = url_list\n",
    "    return data"
   ]
  },
  {
   "cell_type": "code",
   "execution_count": 26,
   "metadata": {},
   "outputs": [
    {
     "name": "stdout",
     "output_type": "stream",
     "text": [
      "     Project_Name Commit_ID                                        Commit_URL\n",
      "0     apache-avro   126e976     https://github.com/apache/avro/commit/126e976\n",
      "1     apache-avro   2df0775     https://github.com/apache/avro/commit/2df0775\n",
      "2     apache-avro   a39e6de     https://github.com/apache/avro/commit/a39e6de\n",
      "3     apache-avro   2020c8a     https://github.com/apache/avro/commit/2020c8a\n",
      "4     apache-avro   fa0059c     https://github.com/apache/avro/commit/fa0059c\n",
      "5     apache-avro   50baf4c     https://github.com/apache/avro/commit/50baf4c\n",
      "6  apache-calcite   44c72c3  https://github.com/apache/calcite/commit/44c72c3\n",
      "7  apache-calcite   c2059f1  https://github.com/apache/calcite/commit/c2059f1\n",
      "8  apache-calcite   2c339be  https://github.com/apache/calcite/commit/2c339be\n",
      "9  apache-calcite   e117c10  https://github.com/apache/calcite/commit/e117c10\n",
      " \n",
      "          Project_Name Commit_ID  \\\n",
      "0       apache-calcite   0b9ea98   \n",
      "1       apache-calcite   980d9f8   \n",
      "2       apache-calcite   e9d5060   \n",
      "3       apache-calcite   a63639b   \n",
      "4       apache-calcite   a611d64   \n",
      "5       apache-calcite   c711fed   \n",
      "6       apache-calcite   5cee2a1   \n",
      "7  apache-commons-bcel   8ddaf50   \n",
      "8  apache-commons-bcel   9bebece   \n",
      "9  apache-commons-bcel   2010565   \n",
      "\n",
      "                                          Commit_URL  \n",
      "0   https://github.com/apache/calcite/commit/0b9ea98  \n",
      "1   https://github.com/apache/calcite/commit/980d9f8  \n",
      "2   https://github.com/apache/calcite/commit/e9d5060  \n",
      "3   https://github.com/apache/calcite/commit/a63639b  \n",
      "4   https://github.com/apache/calcite/commit/a611d64  \n",
      "5   https://github.com/apache/calcite/commit/c711fed  \n",
      "6   https://github.com/apache/calcite/commit/5cee2a1  \n",
      "7  https://github.com/apache/commons-bcel/commit/...  \n",
      "8  https://github.com/apache/commons-bcel/commit/...  \n",
      "9  https://github.com/apache/commons-bcel/commit/...  \n"
     ]
    }
   ],
   "source": [
    "file_path = ''\n",
    "if not path.exists(\"Neutral_Breaker.xlsx\"):\n",
    "    print(\"upload 'Neutral_Breaker.xlsx' to current working directory!\")\n",
    "else:\n",
    "    pwd = os.getcwd()\n",
    "    file_path += pwd + '\\\\Neutral_Breaker.xlsx'\n",
    "neutral = load_data(file_path, \"Neutral_url\")\n",
    "breaker = load_data(file_path, \"Breaker_url\")\n",
    "neutral = create_url(neutral)\n",
    "breaker = create_url(breaker)\n",
    "print(neutral.head(10))\n",
    "print(\" \")\n",
    "print(breaker.head(10))"
   ]
  },
  {
   "cell_type": "code",
   "execution_count": 16,
   "metadata": {},
   "outputs": [],
   "source": [
    "def parse_urls(data):\n",
    "    \"\"\"\n",
    "    parses the url within data[\"Commit_URL\"] and classifies the commit\n",
    "    as either 'Build', 'Testing', 'Maintenance' based on changes to files in diffs.\n",
    "\n",
    "    :param data: pandas data frame\n",
    "    :return: pandas data frame with three new binary columns 'Testing', 'Maintenance', 'Build'\n",
    "    \"\"\"\n",
    "    testing = [0] * len(data[\"Commit_URL\"])\n",
    "    build = [0] * len(data[\"Commit_URL\"])\n",
    "    maintenance = [0] * len(data[\"Commit_URL\"])\n",
    "    for ii in range(len(data[\"Commit_URL\"])):\n",
    "        try:\n",
    "            html = urlopen(data[\"Commit_URL\"].iloc[ii])\n",
    "            bsObj = BeautifulSoup(html, \"html.parser\")\n",
    "            paths = bsObj.findAll(\"a\", {\"href\": re.compile(r\"#diff-[a-z0-9]+\")})\n",
    "            for path in paths:\n",
    "                if len(path.attrs) == 1:\n",
    "                    if re.match(r\".*(build|pom).*\", str(path)):\n",
    "                        build[ii] = 1\n",
    "                    if re.match(r\".*(test|tests|tester).*\", str(path)):\n",
    "                        testing[ii] = 1\n",
    "                    if re.match(r\".*(u|U)til.*\", str(path)) or re.match(r\".*(h|H)elper.*\", str(path)):\n",
    "                        maintenance[ii] = 1\n",
    "        except HTTPError as e:\n",
    "            print(data[\"Commit_ID\"].iloc[ii])\n",
    "        except URLError as e:\n",
    "            print(\"The server could not be found!\")\n",
    "    data[\"Testing\"] = testing\n",
    "    data[\"Build\"] = build\n",
    "    data[\"Maintenance\"] = maintenance\n",
    "    return data\n"
   ]
  },
  {
   "cell_type": "code",
   "execution_count": 17,
   "metadata": {},
   "outputs": [],
   "source": [
    "neutral = parse_urls(neutral)\n",
    "breaker = parse_urls(breaker)"
   ]
  },
  {
   "cell_type": "code",
   "execution_count": 21,
   "metadata": {},
   "outputs": [
    {
     "name": "stdout",
     "output_type": "stream",
     "text": [
      "      Project_Name Commit_ID  \\\n",
      "0      apache-avro   126e976   \n",
      "1      apache-avro   2df0775   \n",
      "2      apache-avro   a39e6de   \n",
      "3      apache-avro   2020c8a   \n",
      "4      apache-avro   fa0059c   \n",
      "5      apache-avro   50baf4c   \n",
      "6   apache-calcite   44c72c3   \n",
      "7   apache-calcite   c2059f1   \n",
      "8   apache-calcite   2c339be   \n",
      "9   apache-calcite   e117c10   \n",
      "10  apache-calcite   3c32deb   \n",
      "\n",
      "                                          Commit_URL  Testing  Build  \\\n",
      "0      https://github.com/apache/avro/commit/126e976        1      0   \n",
      "1      https://github.com/apache/avro/commit/2df0775        1      0   \n",
      "2      https://github.com/apache/avro/commit/a39e6de        1      0   \n",
      "3      https://github.com/apache/avro/commit/2020c8a        1      0   \n",
      "4      https://github.com/apache/avro/commit/fa0059c        0      0   \n",
      "5      https://github.com/apache/avro/commit/50baf4c        1      0   \n",
      "6   https://github.com/apache/calcite/commit/44c72c3        1      0   \n",
      "7   https://github.com/apache/calcite/commit/c2059f1        1      0   \n",
      "8   https://github.com/apache/calcite/commit/2c339be        1      0   \n",
      "9   https://github.com/apache/calcite/commit/e117c10        1      0   \n",
      "10  https://github.com/apache/calcite/commit/3c32deb        1      0   \n",
      "\n",
      "    Maintenance  \n",
      "0             0  \n",
      "1             0  \n",
      "2             0  \n",
      "3             0  \n",
      "4             0  \n",
      "5             0  \n",
      "6             1  \n",
      "7             0  \n",
      "8             0  \n",
      "9             0  \n",
      "10            0  \n"
     ]
    }
   ],
   "source": [
    "print(neutral.head(11))"
   ]
  },
  {
   "cell_type": "code",
   "execution_count": 23,
   "metadata": {},
   "outputs": [
    {
     "name": "stdout",
     "output_type": "stream",
     "text": [
      "           Project_Name Commit_ID  \\\n",
      "0        apache-calcite   0b9ea98   \n",
      "1        apache-calcite   980d9f8   \n",
      "2        apache-calcite   e9d5060   \n",
      "3        apache-calcite   a63639b   \n",
      "4        apache-calcite   a611d64   \n",
      "5        apache-calcite   c711fed   \n",
      "6        apache-calcite   5cee2a1   \n",
      "7   apache-commons-bcel   8ddaf50   \n",
      "8   apache-commons-bcel   9bebece   \n",
      "9   apache-commons-bcel   2010565   \n",
      "10  apache-commons-bcel   e5585e4   \n",
      "\n",
      "                                           Commit_URL  Testing  Build  \\\n",
      "0    https://github.com/apache/calcite/commit/0b9ea98        1      0   \n",
      "1    https://github.com/apache/calcite/commit/980d9f8        0      0   \n",
      "2    https://github.com/apache/calcite/commit/e9d5060        1      0   \n",
      "3    https://github.com/apache/calcite/commit/a63639b        1      1   \n",
      "4    https://github.com/apache/calcite/commit/a611d64        0      0   \n",
      "5    https://github.com/apache/calcite/commit/c711fed        0      0   \n",
      "6    https://github.com/apache/calcite/commit/5cee2a1        1      1   \n",
      "7   https://github.com/apache/commons-bcel/commit/...        0      0   \n",
      "8   https://github.com/apache/commons-bcel/commit/...        0      0   \n",
      "9   https://github.com/apache/commons-bcel/commit/...        0      0   \n",
      "10  https://github.com/apache/commons-bcel/commit/...        0      0   \n",
      "\n",
      "    Maintenance  \n",
      "0             0  \n",
      "1             0  \n",
      "2             0  \n",
      "3             0  \n",
      "4             0  \n",
      "5             0  \n",
      "6             0  \n",
      "7             0  \n",
      "8             0  \n",
      "9             0  \n",
      "10            1  \n"
     ]
    }
   ],
   "source": [
    "print(breaker.head(11))"
   ]
  },
  {
   "cell_type": "code",
   "execution_count": null,
   "metadata": {},
   "outputs": [],
   "source": []
  }
 ],
 "metadata": {
  "kernelspec": {
   "display_name": "Python 3",
   "language": "python",
   "name": "python3"
  },
  "language_info": {
   "codemirror_mode": {
    "name": "ipython",
    "version": 3
   },
   "file_extension": ".py",
   "mimetype": "text/x-python",
   "name": "python",
   "nbconvert_exporter": "python",
   "pygments_lexer": "ipython3",
   "version": "3.7.0"
  }
 },
 "nbformat": 4,
 "nbformat_minor": 2
}
